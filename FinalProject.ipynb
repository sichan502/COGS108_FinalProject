{
 "cells": [
  {
   "cell_type": "markdown",
   "metadata": {},
   "source": [
    "# COGS 108 - Final Project "
   ]
  },
  {
   "cell_type": "markdown",
   "metadata": {},
   "source": [
    "# Overview"
   ]
  },
  {
   "cell_type": "markdown",
   "metadata": {},
   "source": [
    "*Fill in your overview here*"
   ]
  },
  {
   "cell_type": "markdown",
   "metadata": {},
   "source": [
    "# Names and Members IDs\n",
    "\n",
    "- Eryue Xu - A15122722\n",
    "- Bar Yosef - A13368857\n",
    "- Jing Lang - A14906233\n",
    "- Sao I Chan - A15720032\n",
    "- Jasmine Palafox - A14052116\n",
    "- Purisa Jasmine Simmons - A12802561"
   ]
  },
  {
   "cell_type": "markdown",
   "metadata": {},
   "source": [
    "# Research Question"
   ]
  },
  {
   "cell_type": "markdown",
   "metadata": {},
   "source": [
    "The main question that we would like to explore is:\n",
    "What is the relationship between an adult population’s awareness of climate change and\n",
    "the amount of greenhouse gases released by the population’s region?\n",
    "In order to develop an answer this question, we will also explore the following sub-questions:\n",
    "- How does public awareness of climate change vary by state within the U.S.?\n",
    "- How have greenhouse gas emissions in the United States changed over time, using data\n",
    "collected from the following years: 2014, 2016, 2018?\n",
    "- Does a state’s overall political lean (more Democrat or Republican) affect that state’s adult\n",
    "population’s concern for climate change?\n",
    "- On a global scale, how do greenhouse gas emissions vary by country? Is there a correlation\n",
    "between a country’s greenhouse gas emissions and their awareness of climate change?"
   ]
  },
  {
   "cell_type": "markdown",
   "metadata": {},
   "source": [
    "## Background and Prior Work"
   ]
  },
  {
   "cell_type": "markdown",
   "metadata": {},
   "source": [
    "*Fill in your background and prior work here* \n",
    "\n",
    "References (include links):\n",
    "- 1)\n",
    "- 2)"
   ]
  },
  {
   "cell_type": "markdown",
   "metadata": {},
   "source": [
    "# Hypothesis\n"
   ]
  },
  {
   "cell_type": "markdown",
   "metadata": {},
   "source": [
    "We hypothesize that regions with a greater awareness of climate change will produce lower\n",
    "amounts of greenhouse gases emissions, when compared to regions with lesser degrees of\n",
    "climate change awareness, especially when the industrialization of the region under study is\n",
    "controlled for. This hypothesis is based on the idea that a public awareness of climate change\n",
    "would cause local governments to produce policy that addresses climate change by regulating\n",
    "greenhouse gas emissions (Bord, O’Connor, & Fisher, 2000)."
   ]
  },
  {
   "cell_type": "markdown",
   "metadata": {},
   "source": [
    "# Dataset(s)"
   ]
  },
  {
   "cell_type": "markdown",
   "metadata": {},
   "source": [
    "We have nine datasets that we are using in our final project. We will analyze the data contained in these nine datasets in order to guide the analysis of our research questions."
   ]
  },
  {
   "cell_type": "markdown",
   "metadata": {},
   "source": [
    "Dataset 1\n",
    "- Dataset Name: YPCCC_2014_State.csv\n",
    "- Link to the dataset: https://climatecommunication.yale.edu/visualizations-data/ycom/\n",
    "- Number of observations: 51 states\n",
    "\n",
    "Dataset 2\n",
    "\n",
    "- Dataset Name: YCOM_2016.csv\n",
    "- Link to the dataset: https://climatecommunication.yale.edu/visualizations-data/ycom-us-2016/?est=happening&type=value&geo=county\n",
    "- Number of observations: 51 states\n",
    "\n",
    "Dataset 3\n",
    "\n",
    "- Dataset Name: YCOM_2018.csv\n",
    "- Link to the dataset: https://climatecommunication.yale.edu/visualizations-data/ycom-us-2018/?est=happening&type=value&geo=county\n",
    "- Number of observations: 51 states\n",
    "\n",
    "These thress datasets come from the study on climate change awareness conducted by the Yale Program on Climate Change Communication. It gives us information related to a geographic variation in opinions of climate change, organized at the level of county and/or state including the following categories: beliefs, risk perceptions, policy support, behaviors, awareness, worried, etc."
   ]
  },
  {
   "cell_type": "markdown",
   "metadata": {},
   "source": [
    "Dataset 4\n",
    "\n",
    "- Dataset Name: Carbon_dioxide_emission_by_state.xlsx\n",
    "- Link to the dataset: https://www.eia.gov/environment/emissions/state/analysis/\n",
    "- Number of observations: 51 states\n",
    "\n",
    "This dataset contains the data related to the carbon dioxide emission level by state from 2005 to 2016. "
   ]
  },
  {
   "cell_type": "markdown",
   "metadata": {},
   "source": [
    "Dataset 5\n",
    "\n",
    "- Dataset Name: State_Party_Affiliation_2014.csv\n",
    "- Link to the dataset: \n",
    "- Number of observations:\n",
    "\n",
    "This dataset is about..."
   ]
  },
  {
   "cell_type": "markdown",
   "metadata": {},
   "source": [
    "Dataset 6\n",
    "\n",
    "- Dataset Name: 2014_State_Size_Population_Density.csv\n",
    "- Link to the dataset: \n",
    "- Number of observations:\n",
    "\n",
    "This dataset is about..."
   ]
  },
  {
   "cell_type": "markdown",
   "metadata": {},
   "source": [
    "Dataset 7\n",
    "\n",
    "- Dataset Name: GreenhouseGasInventoryDataUS.csv\n",
    "- Link to the dataset: https://cfpub.epa.gov/ghgdata/inventoryexplorer/\n",
    "- Number of observations: We have 27 years data\n",
    "\n",
    "This dataset contains the total amount of each category of gases in U.S. from 1990 to 2017 including carbon dioxide, methane, nitrous oxide, and fluorinated gases. "
   ]
  },
  {
   "cell_type": "markdown",
   "metadata": {},
   "source": [
    "Dataset 8\n",
    "\n",
    "- Dataset Name: annual_co2_emissions_per_country.csv\n",
    "- Link to the dataset: https://ourworldindata.org/co2-and-other-greenhouse-gas-emissions#per-capita-co2-emiss\n",
    "- Number of observations: For each country, there are 265 years data is collected. \n",
    "\n",
    "This dataset describes the annual CO2 and other greenhouse gas emissions per country globally, starting from 1751 until 2016, measured in tonnes per year."
   ]
  },
  {
   "cell_type": "markdown",
   "metadata": {},
   "source": [
    "Dataset 9\n",
    "\n",
    "- Dataset Name: awareness_by_percentage.xlsx\n",
    "- Link to the dataset: https://www.nature.com/articles/nclimate2728\n",
    "- Number of observations: 119 countries in the dataset\n",
    "\n",
    "This dataset contains datas that can help us to analyze the relationship between different categories and people's level of awareness of climate change."
   ]
  },
  {
   "cell_type": "markdown",
   "metadata": {},
   "source": [
    "# Setup"
   ]
  },
  {
   "cell_type": "code",
   "execution_count": 1,
   "metadata": {},
   "outputs": [],
   "source": [
    "## YOUR CODE HERE"
   ]
  },
  {
   "cell_type": "markdown",
   "metadata": {},
   "source": [
    "# Data Cleaning"
   ]
  },
  {
   "cell_type": "markdown",
   "metadata": {},
   "source": [
    "Describe your data cleaning steps here."
   ]
  },
  {
   "cell_type": "code",
   "execution_count": 2,
   "metadata": {},
   "outputs": [],
   "source": [
    "## YOUR CODE HERE\n",
    "## FEEL FREE TO ADD MULTIPLE CELLS PER SECTION"
   ]
  },
  {
   "cell_type": "markdown",
   "metadata": {},
   "source": [
    "# Data Analysis & Results"
   ]
  },
  {
   "cell_type": "markdown",
   "metadata": {},
   "source": [
    "Include cells that describe the steps in your data analysis."
   ]
  },
  {
   "cell_type": "code",
   "execution_count": 3,
   "metadata": {},
   "outputs": [],
   "source": [
    "## YOUR CODE HERE\n",
    "## FEEL FREE TO ADD MULTIPLE CELLS PER SECTION"
   ]
  },
  {
   "cell_type": "markdown",
   "metadata": {},
   "source": [
    "# Ethics & Privacy"
   ]
  },
  {
   "cell_type": "markdown",
   "metadata": {},
   "source": [
    "Common ethical considerations in research include concerns of privacy, consent and\n",
    "beneficence. Privacy and authorship are ensured in our study as all of the datasets we have\n",
    "decided to use are publicly available and have been anonymized. These data are mainly about\n",
    "national carbon emissions and anonymous individual opinions on climate change, which are then\n",
    "grouped based on their geographic location. The final aima of this research is to promote an\n",
    "awareness of climate change, which we believe would be advantageous to anyone who could\n",
    "potentially be affected by this research."
   ]
  },
  {
   "cell_type": "markdown",
   "metadata": {},
   "source": [
    "One ethical concern we do have is that in being American and doing this study at a\n",
    "university in the United States, we inherently bring a western perspective of climate change to the\n",
    "analysis of other countries. We will need to be mindful of any inherent bias we have with this\n",
    "perspective, and actively work to mitigate it by understanding that there are geographic and\n",
    "cultural differences which shape an individual’s perception, awareness of, and response to climate\n",
    "change. We may be able to avoid this bias by doing qualitative research of climate change\n",
    "perceptions in various non-Western countries."
   ]
  },
  {
   "cell_type": "markdown",
   "metadata": {},
   "source": [
    "# Conclusion & Discussion"
   ]
  },
  {
   "cell_type": "markdown",
   "metadata": {},
   "source": [
    "*Fill in your discussion information here*"
   ]
  }
 ],
 "metadata": {
  "kernelspec": {
   "display_name": "Python 2",
   "language": "python",
   "name": "python2"
  },
  "language_info": {
   "codemirror_mode": {
    "name": "ipython",
    "version": 2
   },
   "file_extension": ".py",
   "mimetype": "text/x-python",
   "name": "python",
   "nbconvert_exporter": "python",
   "pygments_lexer": "ipython2",
   "version": "2.7.16"
  }
 },
 "nbformat": 4,
 "nbformat_minor": 2
}
