{
 "cells": [
  {
   "cell_type": "markdown",
   "metadata": {},
   "source": [
    "# COGS 108 - Final Project (Group 7)"
   ]
  },
  {
   "cell_type": "markdown",
   "metadata": {},
   "source": [
    "# Overview"
   ]
  },
  {
   "cell_type": "markdown",
   "metadata": {},
   "source": [
    "*Fill in your overview here*"
   ]
  },
  {
   "cell_type": "markdown",
   "metadata": {},
   "source": [
    "# Names and Members IDs\n",
    "\n",
    "- Purisa Jasmine Simmons - A12802561\n",
    "- Eryue Xu - A15122722\n",
    "- Bar Yosef - A13368857\n",
    "- Jing Lang - A14906233\n",
    "- Sao I Chan - A15720032\n",
    "- Jasmine Palafox - A14052116\n"
   ]
  },
  {
   "cell_type": "markdown",
   "metadata": {},
   "source": [
    "# Research Question"
   ]
  },
  {
   "cell_type": "markdown",
   "metadata": {},
   "source": [
    "The main question that we would like to explore is:\n",
    "What is the relationship between an adult population’s awareness of climate change and\n",
    "the amount of greenhouse gases released by that population’s region?\n",
    "In order to develop an answer this question, we will also explore the following sub-questions:\n",
    "- How does public awareness of climate change vary by state within the U.S.?\n",
    "- How have greenhouse gas emissions in the United States changed over time, using data\n",
    "collected from the following years: 2014, 2016, 2018?\n",
    "- Does a state’s overall political lean (more Democrat or Republican) affect that state’s adult\n",
    "population’s concern for climate change?\n",
    "- On a global scale, how do greenhouse gas emissions vary by country? Is there a correlation\n",
    "between a country’s greenhouse gas emissions and their awareness of climate change?"
   ]
  },
  {
   "cell_type": "markdown",
   "metadata": {},
   "source": [
    "## Background and Prior Work"
   ]
  },
  {
   "cell_type": "markdown",
   "metadata": {},
   "source": [
    "*Fill in your background and prior work here* \n",
    "\n",
    "References (include links):\n",
    "- 1)\n",
    "- 2)"
   ]
  },
  {
   "cell_type": "markdown",
   "metadata": {},
   "source": [
    "# Hypothesis\n"
   ]
  },
  {
   "cell_type": "markdown",
   "metadata": {},
   "source": [
    "We hypothesize that regions with a greater awareness of climate change will produce lower\n",
    "amounts of greenhouse gases emissions, when compared to regions with lesser degrees of\n",
    "climate change awareness, especially when the industrialization of the region under study is\n",
    "controlled for. This hypothesis is based on the idea that a public awareness of climate change\n",
    "would cause local governments to produce policy that addresses climate change by regulating\n",
    "greenhouse gas emissions (Bord, O’Connor, & Fisher, 2000)."
   ]
  },
  {
   "cell_type": "markdown",
   "metadata": {},
   "source": [
    "# Dataset(s)"
   ]
  },
  {
   "cell_type": "markdown",
   "metadata": {},
   "source": [
    "We have nine datasets that we are using in our final project. We will analyze the data contained in these nine datasets in order to guide the analysis of our research questions."
   ]
  },
  {
   "cell_type": "markdown",
   "metadata": {},
   "source": [
    "Dataset 1\n",
    "- Dataset Name: YPCCC_2014_State.csv\n",
    "- Link to the dataset: https://climatecommunication.yale.edu/visualizations-data/ycom/\n",
    "- Number of observations: 51 states\n",
    "\n",
    "Dataset 2\n",
    "\n",
    "- Dataset Name: YCOM_2016.csv\n",
    "- Link to the dataset: https://climatecommunication.yale.edu/visualizations-data/ycom-us-2016/?est=happening&type=value&geo=county\n",
    "- Number of observations: 51 states\n",
    "\n",
    "Dataset 3\n",
    "\n",
    "- Dataset Name: YCOM_2018.csv\n",
    "- Link to the dataset: https://climatecommunication.yale.edu/visualizations-data/ycom-us-2018/?est=happening&type=value&geo=county\n",
    "- Number of observations: 51 states\n",
    "\n",
    "These thress datasets come from the study on climate change awareness conducted by the Yale Program on Climate Change Communication. It gives us information related to a geographic variation in opinions of climate change, organized at the level of county and/or state including the following categories: beliefs, risk perceptions, policy support, behaviors, awareness, worried, etc."
   ]
  },
  {
   "cell_type": "markdown",
   "metadata": {},
   "source": [
    "Dataset 4\n",
    "\n",
    "- Dataset Name: Carbon_dioxide_emission_by_state.xlsx\n",
    "- Link to the dataset: https://www.eia.gov/environment/emissions/state/analysis/\n",
    "- Number of observations: 51 states\n",
    "\n",
    "This dataset contains the data related to the carbon dioxide emission level by state from 2005 to 2016. "
   ]
  },
  {
   "cell_type": "markdown",
   "metadata": {},
   "source": [
    "Dataset 5\n",
    "\n",
    "- Dataset Name: State_Party_Affiliation_2014.csv\n",
    "- Link to the dataset: https://www.pewforum.org/religious-landscape-study/compare/party-affiliation/by/state/\n",
    "- Number of observations: 51 states * 4 columns = 204 observations\n",
    "\n",
    "This dataset contains information related to the political party affiliation of each state in 2014 based on a subsample of each state's population. "
   ]
  },
  {
   "cell_type": "markdown",
   "metadata": {},
   "source": [
    "Dataset 6\n",
    "\n",
    "- Dataset Name: 2014_State_Size_Population_Density.csv\n",
    "- Link to the dataset: https://www.states101.com/populations\n",
    "- Number of observations: 57 states * 3 columns = 171 observations\n",
    "\n",
    "This dataset contains information for the population, land area in square miles, and population density (people per square mile) of each U.S. state and territory. "
   ]
  },
  {
   "cell_type": "markdown",
   "metadata": {},
   "source": [
    "Dataset 7\n",
    "\n",
    "- Dataset Name: GreenhouseGasInventoryDataUS.csv\n",
    "- Link to the dataset: https://cfpub.epa.gov/ghgdata/inventoryexplorer/\n",
    "- Number of observations: We have 27 years data\n",
    "\n",
    "This dataset contains the total amount of each category of gases in U.S. from 1990 to 2017 including carbon dioxide, methane, nitrous oxide, and fluorinated gases. "
   ]
  },
  {
   "cell_type": "markdown",
   "metadata": {},
   "source": [
    "Dataset 8\n",
    "\n",
    "- Dataset Name: annual_co2_emissions_per_country.csv\n",
    "- Link to the dataset: https://ourworldindata.org/co2-and-other-greenhouse-gas-emissions#per-capita-co2-emiss\n",
    "- Number of observations: For each country, there are 265 years data is collected. \n",
    "\n",
    "This dataset describes the annual CO2 and other greenhouse gas emissions per country globally, starting from 1751 until 2016, measured in tonnes per year."
   ]
  },
  {
   "cell_type": "markdown",
   "metadata": {},
   "source": [
    "Dataset 9\n",
    "\n",
    "- Dataset Name: awareness_by_percentage.xlsx\n",
    "- Link to the dataset: https://www.nature.com/articles/nclimate2728\n",
    "- Number of observations: 119 countries in the dataset\n",
    "\n",
    "This dataset contains datas that can help us to analyze the relationship between different categories and people's level of awareness of climate change."
   ]
  },
  {
   "cell_type": "markdown",
   "metadata": {},
   "source": [
    "# Setup"
   ]
  },
  {
   "cell_type": "code",
   "execution_count": null,
   "metadata": {},
   "outputs": [],
   "source": [
    "#import libraries that are needed\n",
    "%matplotlib inline\n",
    "\n",
    "import pandas as pd\n",
    "import geopandas as gpd\n",
    "from geopandas import GeoDataFrame\n",
    "import numpy as np\n",
    "\n",
    "import matplotlib.pyplot as plt\n",
    "plt.rcParams['figure.figsize'] = (17, 5)\n",
    "plt.rcParams.update({'font.size': 16})\n",
    "from mpl_toolkits.axes_grid1 import make_axes_locatable\n",
    "import seaborn as sns\n",
    "\n",
    "import shapely.geometry as shp\n",
    "\n",
    "import sklearn.neighbors as skn\n",
    "import sklearn.metrics as skm\n",
    "\n",
    "pd.options.display.max_rows = 10\n",
    "\n",
    "#improve resolution\n",
    "#comment this line if erroring on your machine/screen\n",
    "%config InlineBackend.figure_format ='retina'"
   ]
  },
  {
   "cell_type": "code",
   "execution_count": null,
   "metadata": {
    "scrolled": true
   },
   "outputs": [],
   "source": [
    "#Import Other Necessary Python Libraries:\n",
    "import math\n",
    "import operator\n",
    "import matplotlib.pyplot as plt; plt.rcdefaults()\n",
    "import matplotlib.pyplot as plt\n",
    "import matplotlib.patches as mpatches\n",
    "\n",
    "from numpy.polynomial.polynomial import polyfit\n",
    "\n",
    "import patsy\n",
    "import statsmodels.api as sm\n",
    "import scipy.stats as stats\n",
    "from scipy.stats import ttest_ind, chisquare, normaltest\n",
    "\n",
    "import os \n",
    "import earthpy as et\n",
    "\n",
    "import folium\n",
    "from folium import plugins\n",
    "\n",
    "import rasterio as rio\n",
    "from rasterio.warp import calculate_default_transform, reproject, Resampling"
   ]
  },
  {
   "cell_type": "markdown",
   "metadata": {},
   "source": [
    "# Data Cleaning"
   ]
  },
  {
   "cell_type": "markdown",
   "metadata": {},
   "source": [
    "Describe your data cleaning steps here."
   ]
  },
  {
   "cell_type": "markdown",
   "metadata": {},
   "source": [
    "#### Dataset 1: Read in data about population sentiment per state in 2014 (for Simmons Analysis) "
   ]
  },
  {
   "cell_type": "code",
   "execution_count": null,
   "metadata": {},
   "outputs": [],
   "source": [
    "#File names and datasets \n",
    "#YPCCC_2014_State.csv - Yale Study conducted in 2014 w/ population sentiments of climate change\n",
    "df_YPCCC_2014_State = pd.read_csv(\"Datasets/YPCCC_2014_State.csv\")\n",
    "\n",
    "#Choose which columns from the original dataset to keep: \n",
    "columns_keep = ['Statecode', 'Statename', 'TotalPop', 'happening', 'human', 'worried', 'personal', 'CO2limits', 'regulate', 'fundrenewables']\n",
    "df_YPCCC_2014_State_new = df_YPCCC_2014_State[columns_keep]\n",
    "\n",
    "#Drop District of Columbia: \n",
    "df_YPCCC_2014_State_new = df_YPCCC_2014_State_new[df_YPCCC_2014_State_new.Statecode != \"DC\"]\n",
    "df_YPCCC_2014_State_new"
   ]
  },
  {
   "cell_type": "markdown",
   "metadata": {},
   "source": [
    "#### Dataset 2: Read in data about awareness of climate change in 2016"
   ]
  },
  {
   "cell_type": "code",
   "execution_count": null,
   "metadata": {},
   "outputs": [],
   "source": [
    "#import dataset\n",
    "df_YCOM_2016 = pd.read_csv(\"Datasets/YCOM_2016.csv\")\n",
    "\n",
    "#Specify which columns in 2016 data we would like to keep in the dataframe for our analysis\n",
    "columns_2016_keep = ['GeoName', 'happening', 'human', 'worried', 'personal', 'CO2limits', \n",
    "                     'regulate', 'fundrenewables']\n",
    "df_YCOM_2016_new = df_YCOM_2016[columns_2016_keep]\n",
    "df_YCOM_2016_state = df_YCOM_2016_new.loc[0:51]\n",
    "df_YCOM_2016_state = df_YCOM_2016_state.drop(index = 0)\n",
    "df_YCOM_2016_state.dropna()\n",
    "df_YCOM_2016_state = df_YCOM_2016_state[df_YCOM_2016_state.GeoName != \"District of Columbia\"]\n",
    "#df_YCOM_2016_state"
   ]
  },
  {
   "cell_type": "markdown",
   "metadata": {},
   "source": [
    "#### Dataset 3: Read in data about awareness of climate change in 2018"
   ]
  },
  {
   "cell_type": "code",
   "execution_count": null,
   "metadata": {},
   "outputs": [],
   "source": [
    "#import dataset\n",
    "df_YCOM_2018 = pd.read_csv(\"Datasets/YCOM_2018.csv\", encoding='ISO-8859-1')"
   ]
  },
  {
   "cell_type": "markdown",
   "metadata": {},
   "source": [
    "#### Dataset 4: Read in data about carbon dioxide emission per state (for Simmons Analysis)"
   ]
  },
  {
   "cell_type": "code",
   "execution_count": null,
   "metadata": {},
   "outputs": [],
   "source": [
    "#Carbon_dioxide_emission_by_state.xlsx - Carbon Dioxide per state from years 2005-2016\n",
    "df_CO2_state = pd.read_excel(\"Datasets/Carbon_dioxide_emission_by_state.xlsx\")\n",
    "\n",
    "#Drop NaN values and rename columns with proper years for 2012, 2014, and 2016 data\n",
    "col_years = ['State']\n",
    "for year in list(range(2005, 2017)):\n",
    "    col_years.append(str(year))\n",
    "\n",
    "col_years.append('Percent Change')\n",
    "col_years.append('Absolute')\n",
    "\n",
    "df_CO2_state.columns=col_years\n",
    "\n",
    "#Deleting unnecessary rows from beginning, renaming index to be the state names:\n",
    "new_df_CO2_state = df_CO2_state.iloc[4:55]\n",
    "new_df_CO2_state = new_df_CO2_state.set_index('State')\n",
    "\n",
    "#Right now, only concerned with year 2014:\n",
    "df_CO2_state_2014 = pd.DataFrame(new_df_CO2_state[:]['2014'])\n",
    "df_CO2_state_2014.columns=([\"CO2_Emissions_in_2014\"])\n",
    "\n",
    "\n",
    "#Drop District of Columbia: \n",
    "df_CO2_state_2014 = df_CO2_state_2014.drop(\"District of Columbia\", axis=0)\n",
    "#df_CO2_state_2014\n",
    "\n",
    "df_CO2_state2 = pd.read_excel(\"Datasets/Carbon_dioxide_emission_by_state.xlsx\", header=4)\n",
    "df_CO2_state2_dropped = df_CO2_state2.dropna()\n",
    "## only keep the data from 2012, 2014, 2016\n",
    "columns_CO2 = ['State',2012, 2014, 2016]\n",
    "df_CO2_state_keep = df_CO2_state2_dropped[columns_CO2]\n",
    "df_CO2_state_keep = df_CO2_state_keep.drop(51, axis = 0)\n",
    "#Drop District of Columbia: \n",
    "df_CO2_state_keep = df_CO2_state_keep[df_CO2_state_keep.State != \"District of Columbia\"]\n",
    "df_CO2_state_keep.columns = ['State', '2014', '2016', '2018']\n",
    "#df_CO2_state_keep"
   ]
  },
  {
   "cell_type": "markdown",
   "metadata": {},
   "source": [
    "#### Dataset 5: Read in data about state party affiliations for 2014 (for Simmons Analysis)"
   ]
  },
  {
   "cell_type": "code",
   "execution_count": null,
   "metadata": {},
   "outputs": [],
   "source": [
    "df_party_state = pd.read_csv(\"Datasets/State_Party_Affiliation_2014.csv\")\n",
    "df_party_state = df_party_state.set_index(\"State\")\n",
    "df_party_state.columns=[\"Republican\", \"No_lean\", \"Democrat\", \"Sample_Size\"]\n",
    "df_party_state.Republican = df_party_state.Republican.apply(lambda x: x.replace('%',''))\n",
    "df_party_state.No_lean = df_party_state.No_lean.apply(lambda x: x.replace('%',''))\n",
    "df_party_state.Democrat = df_party_state.Democrat.apply(lambda x: x.replace('%',''))\n",
    "df_party_state\n",
    "\n",
    "#Drop the district of columbia since it isn't a state: \n",
    "df_party_state = df_party_state.drop(\"District of Columbia\")\n",
    "df_party_state\n",
    "\n",
    "\n"
   ]
  },
  {
   "cell_type": "markdown",
   "metadata": {},
   "source": [
    "#### Dataset 7: Read in data about annual greenhouse gas in US"
   ]
  },
  {
   "cell_type": "code",
   "execution_count": null,
   "metadata": {},
   "outputs": [],
   "source": [
    "#import greenhouse gas data\n",
    "annual_gas_us = pd.read_csv('Datasets/GreenhouseGasInventoryDataUS.csv')\n",
    "\n",
    "#Dataset in the different orientation\n",
    "#Transpose the dataset and rename the column\n",
    "annual_gas_us = annual_gas_us.set_index('Gas').rename_axis(['Year']).transpose().reset_index()\n",
    "annual_gas_us.rename(columns = {'index' : 'Year'}, inplace = True)"
   ]
  },
  {
   "cell_type": "markdown",
   "metadata": {},
   "source": [
    "#### Dataset 8: Read in data about annual CO2 emission globally (for Yolanda analysis)"
   ]
  },
  {
   "cell_type": "code",
   "execution_count": null,
   "metadata": {},
   "outputs": [],
   "source": [
    "#import global CO2 emission data\n",
    "df_country_emission = pd.read_csv('Datasets/annual_co2_emissions_per_country.csv')\n",
    "\n",
    "#rename the column and reset the index\n",
    "df_country_emission = df_country_emission.rename(index=str, columns={\"Annual CO₂ emissions (Global Carbon Project (2017)) (tonnes)\": \"Annual CO₂ emissions(tonnes)\"})\n",
    "df_country_emission.set_index('Entity', inplace=True)\n",
    "\n",
    "#drop any unavailable or no value data\n",
    "df_country_emission= df_country_emission.dropna()\n",
    "df_country_emission= df_country_emission[df_country_emission['Annual CO₂ emissions(tonnes)'] != 0]\n",
    "\n",
    "df_country_emission.head()"
   ]
  },
  {
   "cell_type": "markdown",
   "metadata": {},
   "source": [
    "#### Dataset 9: Read in data about CO2 emissions and awareness of climate change globally (for Yosef Analysis)¶"
   ]
  },
  {
   "cell_type": "code",
   "execution_count": null,
   "metadata": {},
   "outputs": [],
   "source": [
    "df_global = pd.read_excel(\"Datasets/awareness_by_percentage.xlsx\",header=1)\n",
    "df_global.head()"
   ]
  },
  {
   "cell_type": "markdown",
   "metadata": {},
   "source": [
    "Drop null values"
   ]
  },
  {
   "cell_type": "code",
   "execution_count": null,
   "metadata": {},
   "outputs": [],
   "source": [
    "df_global.dropna"
   ]
  },
  {
   "cell_type": "markdown",
   "metadata": {},
   "source": [
    "Keep less columns"
   ]
  },
  {
   "cell_type": "code",
   "execution_count": null,
   "metadata": {},
   "outputs": [],
   "source": [
    "keep = ['Country','Population.2008','CO2emi','GDPperUS','glo_tot','Aware','Serious', 'WGI', 'Efcon']\n",
    "df_global = df_global[keep]"
   ]
  },
  {
   "cell_type": "markdown",
   "metadata": {},
   "source": [
    "Set country as the index"
   ]
  },
  {
   "cell_type": "code",
   "execution_count": null,
   "metadata": {},
   "outputs": [],
   "source": [
    "df_global.set_index('Country')"
   ]
  },
  {
   "cell_type": "markdown",
   "metadata": {},
   "source": [
    "Sort CO2emi and Aware columns"
   ]
  },
  {
   "cell_type": "markdown",
   "metadata": {},
   "source": [
    "# Data Analysis & Results"
   ]
  },
  {
   "cell_type": "markdown",
   "metadata": {},
   "source": [
    "Include cells that describe the steps in your data analysis."
   ]
  },
  {
   "cell_type": "markdown",
   "metadata": {},
   "source": [
    "#### Step \\#1: First, we analyze the global CO2 emission"
   ]
  },
  {
   "cell_type": "markdown",
   "metadata": {},
   "source": [
    "Graph CO2 Emissions and Awareness data.\n",
    "Visualize the data in a choropleth map using geopandas."
   ]
  },
  {
   "cell_type": "code",
   "execution_count": null,
   "metadata": {},
   "outputs": [],
   "source": [
    "#sort CO2 emission \n",
    "df_global = df_global.sort_values('CO2emi')"
   ]
  },
  {
   "cell_type": "code",
   "execution_count": null,
   "metadata": {},
   "outputs": [],
   "source": [
    "fig_size = plt.rcParams[\"figure.figsize\"]\n",
    "\n",
    "fig_size[0] = 12\n",
    "fig_size[1] = 9\n",
    "plt.rcParams[\"figure.figsize\"] = fig_size\n",
    "y_pos = np.arange(len(df_global['Country']))\n",
    "\n",
    "plt.barh(y_pos, df_global['CO2emi'], align='center', alpha=0.5)\n",
    "plt.yticks(y_pos, df_global['Country'])\n",
    "plt.ylabel('CO2 Emissions in 2007-8')\n",
    "plt.title('Country CO2 Emissions in 2007-8')\n",
    "fig = plt.gcf()\n",
    "fig.set_size_inches(18.5, 18.5)\n",
    "plt.show()"
   ]
  },
  {
   "cell_type": "code",
   "execution_count": null,
   "metadata": {},
   "outputs": [],
   "source": [
    "pip install folium"
   ]
  },
  {
   "cell_type": "code",
   "execution_count": null,
   "metadata": {},
   "outputs": [],
   "source": [
    "pip install --upgrade earthpy"
   ]
  },
  {
   "cell_type": "code",
   "execution_count": null,
   "metadata": {},
   "outputs": [],
   "source": [
    "import os \n",
    "import earthpy as et\n",
    "\n",
    "import folium\n",
    "from folium import plugins\n",
    "\n",
    "import rasterio as rio\n",
    "from rasterio.warp import calculate_default_transform, reproject, Resampling\n"
   ]
  },
  {
   "cell_type": "code",
   "execution_count": null,
   "metadata": {
    "scrolled": true
   },
   "outputs": [],
   "source": [
    "m = folium.Map(location=[37, -102], zoom_start=5)\n",
    "m"
   ]
  },
  {
   "cell_type": "code",
   "execution_count": null,
   "metadata": {},
   "outputs": [],
   "source": [
    "conda install geopandas"
   ]
  },
  {
   "cell_type": "code",
   "execution_count": null,
   "metadata": {},
   "outputs": [],
   "source": [
    "!pip install descartes\n",
    "!pip install PySAL\n",
    "!pip install mapclassify"
   ]
  },
  {
   "cell_type": "markdown",
   "metadata": {},
   "source": [
    "Import world geography dataset and merge with df_global."
   ]
  },
  {
   "cell_type": "code",
   "execution_count": null,
   "metadata": {},
   "outputs": [],
   "source": [
    "world = gpd.read_file(gpd.datasets.get_path('naturalearth_lowres'))\n",
    "world.head()"
   ]
  },
  {
   "cell_type": "code",
   "execution_count": null,
   "metadata": {},
   "outputs": [],
   "source": [
    "country_shapes = world[['geometry', 'iso_a3']]\n",
    "\n",
    "country_names = world[['name', 'iso_a3']]\n",
    "\n",
    "# For spatial join\n",
    "countries = world[['geometry', 'name']]\n",
    "\n",
    "countries = countries.rename(columns={'name':'country'})\n",
    "countries.head()"
   ]
  },
  {
   "cell_type": "code",
   "execution_count": null,
   "metadata": {},
   "outputs": [],
   "source": [
    "from geopandas import GeoDataFrame"
   ]
  },
  {
   "cell_type": "code",
   "execution_count": null,
   "metadata": {},
   "outputs": [],
   "source": [
    "df_map = df_global.merge(countries, left_on='Country', right_on='country')\n",
    "df_geo = GeoDataFrame(df_map) \n",
    "print(df_geo)"
   ]
  },
  {
   "cell_type": "code",
   "execution_count": null,
   "metadata": {},
   "outputs": [],
   "source": [
    "df_geo.plot()"
   ]
  },
  {
   "cell_type": "code",
   "execution_count": null,
   "metadata": {},
   "outputs": [],
   "source": [
    "# plot choropleth for CO2emi\n",
    "fig, ax = plt.subplots(1, 1, figsize=(17, 7))\n",
    "divider = make_axes_locatable(ax)\n",
    "df_geo.plot(column='CO2emi', ax=ax, cmap='GnBu', legend=True)\n",
    "plt.title('CO2 Emissions')"
   ]
  },
  {
   "cell_type": "markdown",
   "metadata": {},
   "source": [
    "# Discussion: An issue with this visualization: small, wealthy countries that have a lot of emmissions like Qatar and Luxemborg, are the highest but are not visible on this graph"
   ]
  },
  {
   "cell_type": "code",
   "execution_count": null,
   "metadata": {},
   "outputs": [],
   "source": [
    "#sort Aware\n",
    "df_global = df_global.sort_values('Aware')"
   ]
  },
  {
   "cell_type": "code",
   "execution_count": null,
   "metadata": {},
   "outputs": [],
   "source": [
    "fig_size = plt.rcParams[\"figure.figsize\"]\n",
    "\n",
    "fig_size[0] = 12\n",
    "fig_size[1] = 10\n",
    "plt.rcParams[\"figure.figsize\"] = fig_size\n",
    "y_pos = np.arange(len(df_global['Country']))\n",
    "\n",
    "plt.barh(y_pos, df_global['Aware'], align='center', alpha=0.5)\n",
    "plt.yticks(y_pos, df_global['Country'])\n",
    "plt.ylabel('Aware')\n",
    "plt.title('Awareness in 2007-8')\n",
    "fig = plt.gcf()\n",
    "fig.set_size_inches(18.5, 32)\n",
    "plt.show()"
   ]
  },
  {
   "cell_type": "code",
   "execution_count": null,
   "metadata": {},
   "outputs": [],
   "source": [
    "# plot choropleth for awareness\n",
    "fig, ax = plt.subplots(1, 1, figsize=(17, 7))\n",
    "divider = make_axes_locatable(ax)\n",
    "df_geo.plot(column='Aware', ax = ax, figsize=(17, 6), cmap='GnBu', legend = True);\n",
    "plt.title('Awareness')"
   ]
  },
  {
   "cell_type": "markdown",
   "metadata": {},
   "source": [
    "Explore the correlations in the global dataset"
   ]
  },
  {
   "cell_type": "code",
   "execution_count": null,
   "metadata": {},
   "outputs": [],
   "source": [
    "df_global.corr()"
   ]
  },
  {
   "cell_type": "markdown",
   "metadata": {},
   "source": [
    "Analysis: CO2emi is most strongly correlated with GDPperUS. Aware is most strongly correlated with glo_tot, GDPperUS, and WGI.\n",
    "\n",
    "Discussion: I will focus on analyzing CO2emi and Aware, as per our goals for this project. Due to \n",
    "GDPperUS's strong correlation with these variables, I will examine it, as well. \n",
    "CO2emi is CO2 emissions per capita. Aware is the percent of people sampled who are aware that climate change is happening.\n",
    "GDPperUS is GDP per capita in US dollars.\n",
    "Although not examined here, for reference, glo_tot is globalization total, and WGI is World Governance Indicator.\n",
    "\n",
    "Note: Some exploratory data analysis of the other variables in this dataset was excluded in order to keep the project coherent."
   ]
  },
  {
   "cell_type": "markdown",
   "metadata": {},
   "source": [
    "Plot scatter plots to visualize CO2emi and Aware"
   ]
  },
  {
   "cell_type": "code",
   "execution_count": null,
   "metadata": {},
   "outputs": [],
   "source": [
    "plt.scatter(df_global['Aware'], df_global['CO2emi'])\n",
    "\n",
    "plt.xlabel('Awareness')\n",
    "plt.ylabel('CO2 Emissions')\n",
    "#plt.legend('data');\n",
    "#to do: look for clusters (maybe region, something else?)\n",
    "\n",
    "#add line of best fit\n",
    "b, m = polyfit(df_global['Aware'], df_global['CO2emi'], 1)\n",
    "plt.plot(df_global['Aware'], b + m * df_global['Aware'], '-')"
   ]
  },
  {
   "cell_type": "code",
   "execution_count": null,
   "metadata": {},
   "outputs": [],
   "source": [
    "plt.scatter(df_global['GDPperUS'], df_global['CO2emi'])\n",
    "\n",
    "plt.xlabel('GDP per Capita in US dollars')\n",
    "plt.ylabel('CO2 Emissions')\n",
    "\n",
    "#add line of best fit\n",
    "b, m = polyfit(df_global['GDPperUS'], df_global['CO2emi'], 1)\n",
    "plt.plot(df_global['GDPperUS'], b + m * df_global['GDPperUS'], '-')"
   ]
  },
  {
   "cell_type": "markdown",
   "metadata": {},
   "source": [
    "Analysis: CO2 emissions is positively correlates with awareness and with GDP. \n",
    "\n",
    "Discussion: The relationships are linear, so I do a linear regression to predict CO2 emissions from awareness."
   ]
  },
  {
   "cell_type": "code",
   "execution_count": null,
   "metadata": {},
   "outputs": [],
   "source": [
    "#linear model to predict CO2emi from awareness\n",
    "outcome_1,predictors_1 = patsy.dmatrices('CO2emi ~ Aware', df_global)\n",
    "mod_1 = sm.OLS(outcome_1,predictors_1)\n",
    "res_1 = mod_1.fit()\n",
    "\n",
    "print(res_1.summary())"
   ]
  },
  {
   "cell_type": "markdown",
   "metadata": {},
   "source": [
    "Analysis: P is les than 0.01, so Aware predicts CO2emi."
   ]
  },
  {
   "cell_type": "markdown",
   "metadata": {},
   "source": [
    "Another scatter plot, with the model fit line"
   ]
  },
  {
   "cell_type": "code",
   "execution_count": null,
   "metadata": {},
   "outputs": [],
   "source": [
    "## Plot the model fit line\n",
    "\n",
    "# Plot the orginal data (as before)\n",
    "plt.scatter(df_global['Aware'], df_global['CO2emi'], alpha=0.3, label='Data', s=100);\n",
    "\n",
    "# Generate and plot the model fit line\n",
    "xs = np.arange(df_global['CO2emi'].min(), df_global['CO2emi'].max())\n",
    "ys = 0.1432 * xs - 4.2222\n",
    "plt.plot(xs, ys, '--k', linewidth=4, label='Model')\n",
    "\n",
    "plt.xlabel('Awareness')\n",
    "plt.ylabel('CO2 Emissions')\n",
    "plt.legend();"
   ]
  },
  {
   "cell_type": "markdown",
   "metadata": {},
   "source": [
    "Discussion: While this model suggests that awareness predicts CO2 Emissions, GDP is correlated with both variables and may be a confounder. To explore this, I do a multivariate regression."
   ]
  },
  {
   "cell_type": "code",
   "execution_count": null,
   "metadata": {},
   "outputs": [],
   "source": [
    "#multivariate regression to predict CO2emi from both awareness and GDPperUS\n",
    "outcome_2,predictors_2 = patsy.dmatrices('CO2emi ~ Aware + GDPperUS', df_global)\n",
    "mod_2 = sm.OLS(outcome_2,predictors_2)\n",
    "res_2 = mod_2.fit()\n",
    "\n",
    "print(res_2.summary())"
   ]
  },
  {
   "cell_type": "markdown",
   "metadata": {},
   "source": [
    "Analysis: P is less than 0.01, so awareness doesn't predict CO2 emissions when GDPperUS is taken into account. CO2 emissions is a confounding variable."
   ]
  },
  {
   "cell_type": "markdown",
   "metadata": {},
   "source": [
    "#### Step \\#2: Then, we graph the annual greenhouse gas in US from 1990 to 2017"
   ]
  },
  {
   "cell_type": "code",
   "execution_count": null,
   "metadata": {},
   "outputs": [],
   "source": [
    "#From dataset8, plot the diagram to show CO2 emission in US from 1800 to 2016\n",
    "us_annuale = df_country_emission.loc[ 'United States' , : ]\n",
    "\n",
    "lines = us_annuale.plot.line(x='Year', y='Annual CO₂ emissions(tonnes)', color='red', lw=8, figsize=(100,50))\n",
    "plt.title('The annual CO₂ emission in US', size = 140)\n",
    "plt.xlabel('Year', size = 70)\n",
    "plt.ylabel('CO₂ emissions(tonnes)', size = 70)"
   ]
  },
  {
   "cell_type": "code",
   "execution_count": null,
   "metadata": {},
   "outputs": [],
   "source": [
    "#Plot the diagram to show annual greenhouse gas in US over the recent year \n",
    "f = plt.figure(figsize = (18,8))\n",
    "ax = f.add_subplot(1,1,1)\n",
    "ax.plot(annual_gas_us['Year'], annual_gas_us['Total'])\n",
    "ax.set_xlabel('Year', size = 15)\n",
    "ax.set_ylabel('Total Emission (million metric tons)', size = 15)\n",
    "ax.set_title('Annual Greenhouse Gas in US - 1990 to 2017', size = 25)"
   ]
  },
  {
   "cell_type": "markdown",
   "metadata": {},
   "source": [
    "The diagram above shows the changes of annual greenhous gas in US from 1990 to 2017. We can easily notice that the changes are significant. The emission amount increased rapidly started from 1991 until 1999. And there is a peak in 2000 and the emission goes down again and keep constantly increasing until 2007. Starting from 2007, the emission amount got controlled and decreased rapidly within 2 years and keep under controlled."
   ]
  },
  {
   "cell_type": "markdown",
   "metadata": {},
   "source": [
    "#### Step \\#3: Next, we graph the greenhouse gas by category"
   ]
  },
  {
   "cell_type": "code",
   "execution_count": null,
   "metadata": {},
   "outputs": [],
   "source": [
    "#Generate barplot to show emission in US over year by category\n",
    "f = plt.figure(figsize = (20,8))\n",
    "ax = f.add_subplot(1,1,1)\n",
    "bars = max(annual_gas_us['Total'])\n",
    "r = annual_gas_us['Year']\n",
    "barWidth = 1\n",
    "\n",
    "plt.bar(r, annual_gas_us['Carbon dioxide'], edgecolor = 'white', width = barWidth, label = 'Carbon dioxide')\n",
    "plt.bar(r, annual_gas_us['Methane'], edgecolor = 'white', width = barWidth, label = 'Methane')\n",
    "plt.bar(r, annual_gas_us['Nitrous oxide'], edgecolor = 'white', width = barWidth, label = 'Nitrous oxide')\n",
    "plt.bar(r, annual_gas_us['Fluorinated gases'], edgecolor = 'white', width = barWidth, label = 'Fluorinated gases')\n",
    "\n",
    "plt.xlabel('Year', size = 15)\n",
    "plt.ylabel('Proportion of Each Greenhouse Gas', size = 15)\n",
    "plt.title('Greenhouse Gas in US by Category', size = 25)\n",
    "plt.legend(loc = 5, prop = {'size': 14})"
   ]
  },
  {
   "cell_type": "markdown",
   "metadata": {},
   "source": [
    "The barplot shows the proportion of each greenhouse gas from 1990 to 2017. And we can observe that the proportion of carbon dioxide are the highest among these four greenhous gas categories in every year."
   ]
  },
  {
   "cell_type": "markdown",
   "metadata": {},
   "source": [
    "### Hypothesis \\#1: In this analysis, we're wondering whether the awareness of climate change affects their carbon dioxide emissions. We hypothesize that higher awareness of climate change will have lower carbon dioxide emissions. And vice versa."
   ]
  },
  {
   "cell_type": "markdown",
   "metadata": {},
   "source": [
    "we split our discussion of Hypothesis1 into two parts: First, in the level of US, we observe the awareness of climate change of US people from different states and compare it with carbon emission data. Second, we observe the CO2 emission in different countries all around the world, and then compare it with the global awareness of climate change."
   ]
  },
  {
   "cell_type": "markdown",
   "metadata": {},
   "source": [
    "##### 1. states level"
   ]
  },
  {
   "cell_type": "code",
   "execution_count": null,
   "metadata": {},
   "outputs": [],
   "source": [
    "#sort the dataset in descending order\n",
    "sort_state_2014 = df_YPCCC_2014_State_new.sort_values(by = ['happening'], ascending = False)"
   ]
  },
  {
   "cell_type": "code",
   "execution_count": null,
   "metadata": {},
   "outputs": [],
   "source": [
    "#plot awareness states\n",
    "sc = sns.color_palette(\"YlOrRd\", 51)\n",
    "sc.reverse()\n",
    "sns.catplot(x = 'happening', y = 'Statename', kind = 'bar', palette = sc, data = sort_state_2014, height = 15)\n",
    "plt.xlabel('happening', size = 20)\n",
    "plt.ylabel('Statename', size = 20)\n",
    "plt.title('Awareness of Climate Change in US - 2014', size = 20)"
   ]
  },
  {
   "cell_type": "markdown",
   "metadata": {},
   "source": [
    "We can observe that the highest awareness of climate change state is Hawaii, and the lowest awareness of climate change state is West Virginia. Next, we will extract top 10 and least 10 states."
   ]
  },
  {
   "cell_type": "code",
   "execution_count": null,
   "metadata": {},
   "outputs": [],
   "source": [
    "#store top 10 awareness states\n",
    "top10_aware_2014 = sort_state_2014.head(10)\n",
    "\n",
    "#store least 10 awareness states\n",
    "least10_aware_2014 = sort_state_2014.tail(10)"
   ]
  },
  {
   "cell_type": "markdown",
   "metadata": {},
   "source": [
    "#### Next, we need both the same top10 and least10 awareness states in 2014 from the dataset 2016 in order to compare"
   ]
  },
  {
   "cell_type": "code",
   "execution_count": null,
   "metadata": {},
   "outputs": [],
   "source": [
    "#extract top10 awareness states in 2014 from the dataset 2016\n",
    "df_sametopstate_2016 = pd.DataFrame([])\n",
    "for index, rows in df_YCOM_2016_state.iterrows():\n",
    "    name = rows['GeoName']\n",
    "    happen = rows['happening']\n",
    "    for n in top10_aware_2014['Statename']:\n",
    "        if name == n:\n",
    "            df_sametopstate_2016 = df_sametopstate_2016.append({'Statename' : name, 'happening' : happen}, ignore_index = True)\n",
    "            \n",
    "#df_sametopstate_2016"
   ]
  },
  {
   "cell_type": "code",
   "execution_count": null,
   "metadata": {},
   "outputs": [],
   "source": [
    "#extract least10 awareness states in 2014 from the dataset 2016\n",
    "df_sameleaststate_2016 = pd.DataFrame([])\n",
    "for index, rows in df_YCOM_2016_state.iterrows():\n",
    "    name = rows['GeoName']\n",
    "    happen = rows['happening']\n",
    "    for n in least10_aware_2014['Statename']:\n",
    "        if name == n:\n",
    "            df_sameleaststate_2016 = df_sameleaststate_2016.append({'Statename' : name, 'happening' : happen}, ignore_index = True)\n",
    "            \n",
    "#df_sameleaststate_2016"
   ]
  },
  {
   "cell_type": "markdown",
   "metadata": {},
   "source": [
    "#### Now, we are going to extract states's emission amount(both top10 and least10) in both 2014 and 2016 in order to compare the changes to see whether there is any correlation."
   ]
  },
  {
   "cell_type": "code",
   "execution_count": null,
   "metadata": {
    "scrolled": false
   },
   "outputs": [],
   "source": [
    "#extract the top10 awareness state's correlated emission amount in 2014 and 2016\n",
    "df_emissiontop10state = pd.DataFrame([])\n",
    "for i, j in df_CO2_state_keep.iterrows():\n",
    "    name = j['State']\n",
    "    emission1 = j['2014']\n",
    "    emission2 = j['2016']\n",
    "    for n in top10_aware_2014['Statename']:\n",
    "        if name == n:\n",
    "            df_emissiontop10state = df_emissiontop10state.append({'Statename' : name, 'CO2_2014' : emission1,\n",
    "                                                             'CO2_2016' : emission2}, ignore_index = True)\n",
    "            \n",
    "df_emissiontop10state = df_emissiontop10state[['Statename', 'CO2_2014', 'CO2_2016']]\n",
    "\n",
    "#merge awareness based on statename\n",
    "df_topstate = pd.merge(top10_aware_2014, df_sametopstate_2016, on = 'Statename')\n",
    "df_topstate = pd.merge(df_topstate, df_emissiontop10state, on = 'Statename')\n",
    "df_topstate = df_topstate[['Statename', 'happening_x', 'happening_y', 'CO2_2014', 'CO2_2016']]\n",
    "df_topstate = df_topstate.rename(index = str, columns = {\"happening_x\": \"Awareness2014\", \"happening_y\": \"Awareness2016\"})\n",
    "df_topstate"
   ]
  },
  {
   "cell_type": "code",
   "execution_count": null,
   "metadata": {
    "scrolled": true
   },
   "outputs": [],
   "source": [
    "#extract the least10 awareness state's correlated emission amount in 2014 and 2016\n",
    "df_emissionleast10state = pd.DataFrame([])\n",
    "for i, j in df_CO2_state_keep.iterrows():\n",
    "    name = j['State']\n",
    "    emission1 = j['2014']\n",
    "    emission2 = j['2016']\n",
    "    for n in least10_aware_2014['Statename']:\n",
    "        if name == n:\n",
    "            df_emissionleast10state = df_emissionleast10state.append({'Statename' : name, 'CO2_2014' : emission1,\n",
    "                                                             'CO2_2016' : emission2}, ignore_index = True)\n",
    "            \n",
    "df_emissionleast10state = df_emissionleast10state[['Statename', 'CO2_2014', 'CO2_2016']]\n",
    "\n",
    "#merge awareness based on statename\n",
    "df_leaststate = pd.merge(least10_aware_2014, df_sameleaststate_2016, on = 'Statename')\n",
    "df_leaststate = pd.merge(df_leaststate, df_emissionleast10state, on = 'Statename')\n",
    "df_leaststate = df_leaststate[['Statename', 'happening_x', 'happening_y', 'CO2_2014', 'CO2_2016']]\n",
    "df_leaststate = df_leaststate.rename(index = str, columns = {\"happening_x\": \"Awareness2014\", \"happening_y\": \"Awareness2016\"})\n",
    "df_leaststate"
   ]
  },
  {
   "cell_type": "markdown",
   "metadata": {},
   "source": [
    "## Relationship between awareness and emission. Will the awareness change over year affect the emission level?"
   ]
  },
  {
   "cell_type": "code",
   "execution_count": null,
   "metadata": {},
   "outputs": [],
   "source": [
    "plt.rcParams[\"figure.figsize\"] = (8,4)\n",
    "df_topstate.plot(x = 'Statename', y = ['Awareness2014', 'CO2_2014'], kind = 'bar', color = ['black', 'red'])\n",
    "plt.title('The top10 awareness states vs. CO2 in 2014', size = 15)\n",
    "plt.xlabel('Statename', size = 15)\n",
    "plt.xticks(rotation = 45)\n",
    "plt.ylabel('Awareness/CO2', size = 15)"
   ]
  },
  {
   "cell_type": "markdown",
   "metadata": {},
   "source": [
    "Based on the plot above, it plots the state based on the top awareness and their correlated CO2 emission in 2014. We have assumed that the highest awareness state will have lowest emission amount. However, according to the bar chart above, our assumption is not true. For example, we can observe that California's awareness is higher than Massachusetts, but the fact is that California's emission amount in 2014 is higher than Massachusetts."
   ]
  },
  {
   "cell_type": "code",
   "execution_count": null,
   "metadata": {},
   "outputs": [],
   "source": [
    "plt.rcParams[\"figure.figsize\"] = (10,5)\n",
    "df_leaststate.plot(x = 'Statename', y = ['Awareness2014', 'CO2_2014'], kind = 'bar', color = ['black', 'red'])\n",
    "plt.title('The least10 awareness states vs. CO2 in 2014', size = 15)\n",
    "plt.xlabel('Statename', size = 15)\n",
    "plt.xticks(rotation = 45)\n",
    "plt.ylabel('Awareness/CO2', size = 15)"
   ]
  },
  {
   "cell_type": "markdown",
   "metadata": {},
   "source": [
    "Based on the plot above, it plots the state based on the least awareness in 2014. We have assumed that the lowest awareness state will have highest emission amount. However, according to the bar chart above, our assumption is not true. For example, we can observe that North Dakota's awareness is lower than Oklahoma, but the fact is that North Dakota's emission amount in 2014 is lower than Oklahoma."
   ]
  },
  {
   "cell_type": "markdown",
   "metadata": {},
   "source": [
    "## Now, let's look at the changes in awareness from 2014 to 2016"
   ]
  },
  {
   "cell_type": "markdown",
   "metadata": {},
   "source": [
    "First, let's look at the top10 awareness states"
   ]
  },
  {
   "cell_type": "code",
   "execution_count": null,
   "metadata": {},
   "outputs": [],
   "source": [
    "plt.rcParams[\"figure.figsize\"] = (13,4)\n",
    "plt.plot('Statename', 'Awareness2014', data = df_topstate, label = 'Awareness2014')\n",
    "plt.plot('Statename', 'Awareness2016', data = df_topstate, label = 'Awareness2016')\n",
    "plt.title('The top awareness state in 2014 compared to 2016', size = 15)\n",
    "plt.xlabel('Statename', size = 15)\n",
    "plt.ylabel('Awareness', size = 15)\n",
    "plt.legend()"
   ]
  },
  {
   "cell_type": "markdown",
   "metadata": {},
   "source": [
    "The plot shows that the awareness of climate change in the top10 states have changed in 2016. Overall, each of these states's awareness is increased."
   ]
  },
  {
   "cell_type": "markdown",
   "metadata": {},
   "source": [
    "#### Next, let's look at least10 awareness states too."
   ]
  },
  {
   "cell_type": "code",
   "execution_count": null,
   "metadata": {},
   "outputs": [],
   "source": [
    "plt.rcParams[\"figure.figsize\"] = (13,4)\n",
    "plt.plot('Statename', 'Awareness2014', data = df_leaststate, label = 'Awareness2014')\n",
    "plt.plot('Statename', 'Awareness2016', data = df_leaststate, label = 'Awareness2016')\n",
    "plt.title('The least awareness state in 2014 compared to 2016', size = 15)\n",
    "plt.xlabel('Statename', size = 15)\n",
    "plt.ylabel('Awareness', size = 15)\n",
    "plt.legend()"
   ]
  },
  {
   "cell_type": "markdown",
   "metadata": {},
   "source": [
    "The plot shows that the awareness of climate change in the least10 states have changed in 2016. Overall, each of these states's awareness is increased. Compared to the top awareness state plot above, the least awareness states have significant increased their awareness of climate change in two years."
   ]
  },
  {
   "cell_type": "markdown",
   "metadata": {},
   "source": [
    "#### Now, let's plot the data to see if the emission changed."
   ]
  },
  {
   "cell_type": "code",
   "execution_count": null,
   "metadata": {},
   "outputs": [],
   "source": [
    "plt.rcParams[\"figure.figsize\"] = (10,3)\n",
    "df_topstate.plot(x = 'Statename', y = ['CO2_2014', 'CO2_2016'], kind = 'bar')\n",
    "plt.title('The top10 awareness states vs.their CO2 in 2014 and 2016', size = 15)\n",
    "plt.xlabel('Statename', size = 15)\n",
    "plt.xticks(rotation = 45)\n",
    "plt.ylabel('CO2', size = 15)"
   ]
  },
  {
   "cell_type": "markdown",
   "metadata": {},
   "source": [
    "By looking at this diagram, some of the states's CO2 emission is increased and some of the states's CO2 emission is decreased. Even though the fact that we obverse from the preivous histogram that the awareness level of all top10 awareness states in 2014 are increased, not all of their CO2 emission are decreased."
   ]
  },
  {
   "cell_type": "code",
   "execution_count": null,
   "metadata": {},
   "outputs": [],
   "source": [
    "plt.rcParams[\"figure.figsize\"] = (10,3)\n",
    "df_leaststate.plot(x = 'Statename', y = ['CO2_2014', 'CO2_2016'], kind = 'bar')\n",
    "plt.title('The last10 awareness states vs. their CO2 in 2014 and 2016', size = 15)\n",
    "plt.xlabel('Statename', size = 15)\n",
    "plt.xticks(rotation = 45)\n",
    "plt.ylabel('CO2', size = 15)"
   ]
  },
  {
   "cell_type": "markdown",
   "metadata": {},
   "source": [
    "By looking at this diagram, some of the states's CO2 emission is increased and some of the states's CO2 emission is decreased. Same result as what we found from the top10 states in the previous diagram. Even though the fact that we obverse from the preivous histogram that the awareness level of all last10 awareness states in 2014 are increased, not all of their CO2 emission are decreased."
   ]
  },
  {
   "cell_type": "markdown",
   "metadata": {},
   "source": [
    "However, the interesting thing is that we can recognize that the CO2 emission amount has significant decreased within the last10 states compared to top10 states - which only decreased by a little amount."
   ]
  },
  {
   "cell_type": "markdown",
   "metadata": {},
   "source": [
    "##### 2. countries level"
   ]
  },
  {
   "cell_type": "code",
   "execution_count": null,
   "metadata": {},
   "outputs": [],
   "source": [
    "sort_df_country_emission_2008 = df_country_emission_2008.sort_values(by = ['Annual CO₂ emissions(tonnes)'], ascending = False)\n",
    "ax = sort_df_country_emission_2008.plot.bar(rot=0, figsize=(100,50))\n",
    "sort_df_country_emission_2008 = sort_df_country_emission_2008.drop(['World'])\n",
    "plt.title('Global CO2 Emmission Level in 2008', size = 100)\n",
    "plt.xlabel('Countries', size = 80)\n",
    "plt.ylabel('The Amount of Emission', size = 80)"
   ]
  },
  {
   "cell_type": "code",
   "execution_count": null,
   "metadata": {},
   "outputs": [],
   "source": [
    "country_most_df_2008 = sort_df_country_emission_2008.head(10)\n",
    "bx = country_most_df_2008.plot.bar(rot=0, figsize = (15,8), color = 'red')\n",
    "plt.title('The top emission countries in 2008', size = 20)\n",
    "plt.xlabel('Countries', size = 20)"
   ]
  },
  {
   "cell_type": "code",
   "execution_count": null,
   "metadata": {},
   "outputs": [],
   "source": [
    "country_least_df_2008 = sort_df_country_emission_2008.tail(10)\n",
    "cx = country_least_df_2008.plot.bar(rot=0, figsize=(18,8), color = 'green')\n",
    "plt.title('The least emission countries in 2008', size = 20)\n",
    "plt.xlabel('Countries', size = 20)"
   ]
  },
  {
   "cell_type": "markdown",
   "metadata": {},
   "source": [
    "However, the 10 most and least CO2 emission by country level is not a fair rank and could not precisely quantify a countries responsibility for the climate change worldwide. By these statistics, it is clear that the top-ranked countries, like China, must contribute more on global warming than low-ranked countries, like Tuvalu, did in year 2008. But the population, the level of industrialization, and other confounds is worthy considering."
   ]
  },
  {
   "cell_type": "markdown",
   "metadata": {},
   "source": [
    "Thus, we read another data set which includes population and other confounds to analysis a country's CO2 emission level. Meanly, we compare different countries emission level by emission amount in a year per capita."
   ]
  },
  {
   "cell_type": "code",
   "execution_count": null,
   "metadata": {},
   "outputs": [],
   "source": [
    "df_country = pd.read_excel('Datasets/awareness_by_percentage.xlsx',header=1)"
   ]
  },
  {
   "cell_type": "code",
   "execution_count": null,
   "metadata": {},
   "outputs": [],
   "source": [
    "#df_country = pd.read_excel('Datasets/awareness_by_percentage.xlsx',header=1)\n",
    "\n",
    "#Extract the population\n",
    "df_country_population = df_country.filter(items=['Country', 'Population.2008'])\n",
    "df_country_population = df_country_population.rename(index=str, columns={\"Country\": \"Entity\", \"Population.2008\": \"Population.2008\"})\n",
    "df_country_population.set_index('Entity', inplace=True)\n",
    "\n",
    "#Merge it with the emission data and calculate the per \n",
    "sort_df_country_emission_2008 = sort_df_country_emission_2008.merge(df_country_population, on = 'Entity', validate = 'one_to_one')\n",
    "sort_df_country_emission_2008['Emission/capita'] = sort_df_country_emission_2008['Annual CO₂ emissions(tonnes)'].div(sort_df_country_emission_2008['Population.2008'].values,axis=0)\n",
    "sort_df_country_emission_2008"
   ]
  },
  {
   "cell_type": "markdown",
   "metadata": {},
   "source": [
    "we also merge the awareness data in the data set for later comparison"
   ]
  },
  {
   "cell_type": "code",
   "execution_count": null,
   "metadata": {},
   "outputs": [],
   "source": [
    "# Extract the awareness data\n",
    "df_country_aware = df_country.filter(items=['Country', 'Aware'])\n",
    "df_country_aware = df_country_aware.rename(index=str, columns={\"Country\": \"Entity\", \"Population.2008\": \"Population.2008\"})\n",
    "df_country_aware.set_index('Entity', inplace=True)\n",
    "\n",
    "# Merge it\n",
    "country_emission_awareness_2008 = sort_df_country_emission_2008.merge(df_country_aware, on = 'Entity', validate = 'one_to_one')\n",
    "sort_country_emission_awareness_2008 = country_emission_awareness_2008.sort_values(by = ['Emission/capita'], ascending = False)\n",
    "sort_country_emission_awareness_2008 = sort_country_emission_awareness_2008.drop(columns = ['Annual CO₂ emissions(tonnes)','Population.2008'])"
   ]
  },
  {
   "cell_type": "code",
   "execution_count": null,
   "metadata": {},
   "outputs": [],
   "source": [
    "#plot the most emission countries\n",
    "df_most_cemission = sort_country_emission_awareness_2008['Emission/capita'].head(10)\n",
    "dx = df_most_cemission.plot.bar(rot=0, figsize=(20,8), color = 'red')\n",
    "plt.title('The top emission/capita countries in 2008', size = 20)\n",
    "plt.xlabel('Countries', size = 20)"
   ]
  },
  {
   "cell_type": "code",
   "execution_count": null,
   "metadata": {},
   "outputs": [],
   "source": [
    "#plot the corresponding awareness data\n",
    "df_most_cemission_awareness = sort_country_emission_awareness_2008['Aware'].head(10)\n",
    "ex = df_most_cemission_awareness.plot.bar(rot=0, figsize=(20,8), color = 'purple')\n",
    "plt.title('The awareness of the top emission/capita countries in 2008', size = 20)\n",
    "plt.xlabel('Countries', size = 20)"
   ]
  },
  {
   "cell_type": "code",
   "execution_count": null,
   "metadata": {},
   "outputs": [],
   "source": [
    "#Plot the scatter plot for these data\n",
    "most_emission_awareness = sort_country_emission_awareness_2008.head(10)\n",
    "most_emission_awareness = most_emission_awareness.reset_index()\n",
    "\n",
    "x = most_emission_awareness['Emission/capita']\n",
    "y = most_emission_awareness['Aware']\n",
    "types = most_emission_awareness['Entity']\n",
    "\n",
    "for i,j in enumerate(types):\n",
    "    x_coor = x[i]\n",
    "    y_coor = y[i]\n",
    "    plt.plot(x_coor, y_coor, marker = '.', color = 'red', markersize = 10)\n",
    "    plt.text(x_coor + 0.5, y_coor + 0.5, j, fontsize = 13)\n",
    "    plt.xlabel('2008 year emission', fontsize = 20)\n",
    "    plt.ylabel('Awareness', fontsize = 20)\n",
    "    \n",
    "plt.gcf().set_size_inches((20, 15))\n",
    "plt.show()"
   ]
  },
  {
   "cell_type": "code",
   "execution_count": null,
   "metadata": {},
   "outputs": [],
   "source": [
    "least_emission_awareness = country_emission_awareness_2008.tail(10).drop(columns = ['Annual CO₂ emissions(tonnes)','Population.2008'])\n",
    "least_emission_awareness = least_emission_awareness.sort_values(by = ['Emission/capita'], ascending = True)\n",
    "df_least_cemission = least_emission_awareness['Emission/capita'].tail(10)\n",
    "\n",
    "ex = df_least_cemission.plot.bar(rot=0, figsize = (19,8), color = 'green')\n",
    "plt.title('The least emission/capita countries in 2008', size = 20)\n",
    "plt.xlabel('Countries', size = 20)"
   ]
  },
  {
   "cell_type": "code",
   "execution_count": null,
   "metadata": {},
   "outputs": [],
   "source": [
    "df_least_cemission_awareness = least_emission_awareness['Aware']\n",
    "fx = df_least_cemission_awareness.plot.bar(rot=0, figsize = (19,8), color = 'orange')\n",
    "plt.title('The awareness of least emission/capita countries in 2008', size = 20)\n",
    "plt.xlabel('Countries', size = 20)"
   ]
  },
  {
   "cell_type": "code",
   "execution_count": null,
   "metadata": {},
   "outputs": [],
   "source": [
    "least_emission_awareness = least_emission_awareness.reset_index()\n",
    "\n",
    "x = least_emission_awareness['Emission/capita']\n",
    "y = least_emission_awareness['Aware']\n",
    "types = least_emission_awareness['Entity']\n",
    "\n",
    "for i,j in enumerate(types):\n",
    "    x_coor = x[i]\n",
    "    y_coor = y[i]\n",
    "    plt.plot(x_coor, y_coor, marker = '.', color = 'green', markersize = 20)\n",
    "    plt.text(x_coor+0.05, y_coor+0.05, j, fontsize = 13)\n",
    "    plt.xlabel('2008 year emission', fontsize = 20)\n",
    "    plt.ylabel('Awareness', fontsize = 20)\n",
    "    \n",
    "plt.gcf().set_size_inches((20, 15))\n",
    "plt.show()"
   ]
  },
  {
   "cell_type": "markdown",
   "metadata": {},
   "source": [
    "Suprisingly, when comparing the awareness of the top/least emission country, we find that the citizens in the top 10 emission countries have a higher level of being aware of the climate change than the citizens in the least emission countries. Thus, it doesn't fit in our hypothesis."
   ]
  },
  {
   "cell_type": "markdown",
   "metadata": {},
   "source": [
    "### Hypothesis \\#2: In this analysis, we're wondering whether a state's political party affects their carbon dioxide emissions. We hypothesize that Democratic states are more likely to believe that climate change is happening, and that those states would thus have smaller amounts of carbon dioxide emissions. Our reasoning for this is that Republican politicians tend to outwardly deny climate change more than Democratic politicians, and there has been a recent wave among Democratic presidential candidates to deny fossil fuel money. "
   ]
  },
  {
   "cell_type": "markdown",
   "metadata": {},
   "source": [
    "#### Step \\#1: First, we graph each state's CO2 emissions. "
   ]
  },
  {
   "cell_type": "code",
   "execution_count": null,
   "metadata": {},
   "outputs": [],
   "source": [
    "#Create a dictionary to store state-CO2 key-value pairs: \n",
    "\n",
    "states = df_party_state.index.values\n",
    "CO2 = df_CO2_state_2014['CO2_Emissions_in_2014']\n",
    "keys = states\n",
    "values = CO2\n",
    "\n",
    "CO2_states_dict = dict(zip(keys, values))\n",
    "sorted_CO2_states_dict = sorted(CO2_states_dict.items(), key=operator.itemgetter(1))\n",
    "#sorted_CO2_states_dict"
   ]
  },
  {
   "cell_type": "code",
   "execution_count": null,
   "metadata": {},
   "outputs": [],
   "source": [
    "#Plot US CO2 Emissions in 2014 by State\n",
    "fig_size = plt.rcParams[\"figure.figsize\"]\n",
    "\n",
    "fig_size[0] = 12\n",
    "fig_size[1] = 9\n",
    "plt.rcParams[\"figure.figsize\"] = fig_size\n",
    "\n",
    "States = []\n",
    "CO2 = []\n",
    "\n",
    "for state, co2 in sorted_CO2_states_dict: \n",
    "    States.append(state)\n",
    "    CO2.append(co2)\n",
    "\n",
    "y_pos = np.arange(len(States))\n",
    "\n",
    "plt.barh(y_pos, CO2, align='center', alpha=0.5)\n",
    "plt.yticks(y_pos, States)\n",
    "plt.ylabel('CO2 Emissions (million metric tonnes) in 2014')\n",
    "plt.title('U.S. State CO2 Emissions in 2014')\n",
    "\n",
    "plt.show()"
   ]
  },
  {
   "cell_type": "markdown",
   "metadata": {},
   "source": [
    "##### Discussion: From the above graph, we see that the state of Texas had the highest rate of CO2 emissions in 2014, with approximately 626 million metric tonnes of CO2 emissions. The second highest CO2 emissions in 2014 came from California, and the lowest amount of emissions came from the state of Vermont. "
   ]
  },
  {
   "cell_type": "markdown",
   "metadata": {},
   "source": [
    "#### Step \\#2: Next, we overlay each state's political affiliation onto their CO2 emissions on the graph:"
   ]
  },
  {
   "cell_type": "code",
   "execution_count": null,
   "metadata": {},
   "outputs": [],
   "source": [
    "#Now color code the graph based on the political affiliation of each state: \n",
    "state_party_dict = {}\n",
    "for state in df_party_state.index.values:\n",
    "    if float(df_party_state.at[state, 'Republican']) > float(df_party_state.at[state, 'Democrat']):\n",
    "        state_party_dict[state] = 'Republican'\n",
    "    else:\n",
    "        state_party_dict[state] = 'Democrat'\n",
    "        \n",
    "#print(state_party_dict)\n",
    "#print(sorted_CO2_states_dict)\n",
    "        \n",
    "colors = []\n",
    "sorted_states_by_CO2 = [state[0] for state in sorted_CO2_states_dict]\n",
    "\n",
    "for state in sorted_states_by_CO2: \n",
    "    if state_party_dict[state] == 'Republican':\n",
    "        colors.append('red')\n",
    "    else:\n",
    "        colors.append('blue')\n",
    "\n",
    "#print(colors)"
   ]
  },
  {
   "cell_type": "code",
   "execution_count": null,
   "metadata": {
    "scrolled": false
   },
   "outputs": [],
   "source": [
    "\n",
    "\n",
    "fig_size = plt.rcParams[\"figure.figsize\"]\n",
    "\n",
    "fig_size[0] = 12\n",
    "fig_size[1] = 9\n",
    "plt.rcParams[\"figure.figsize\"] = fig_size\n",
    "\n",
    "States = []\n",
    "CO2 = []\n",
    "\n",
    "for state, co2 in sorted_CO2_states_dict: \n",
    "    if state != \"District of Columbia\":\n",
    "        States.append(state)\n",
    "        CO2.append(co2)\n",
    "\n",
    "y_pos = np.arange(len(States))\n",
    "\n",
    "plt.barh(y_pos, CO2, align='center', alpha=0.5, color=colors)\n",
    "plt.yticks(y_pos, States)\n",
    "plt.ylabel('CO2 Emissions (million metric tonnes) in 2014')\n",
    "plt.title('U.S. State CO2 Emissions in 2014')\n",
    "\n",
    "blue_patch = mpatches.Patch(color='blue',alpha=0.5, label='Democrat')\n",
    "red_patch = mpatches.Patch(color='red', alpha=0.5, label='Republican')\n",
    "\n",
    "plt.legend(handles=[blue_patch, red_patch])\n",
    "\n",
    "plt.show()"
   ]
  },
  {
   "cell_type": "markdown",
   "metadata": {},
   "source": [
    "#### Discussion: In the above graph, blue denotes majority Democratic states while red denotes Republican states in 2014. Here, we see that both the highest 4 and lowest 4  emitters of CO2 are Democratic states, which shows us that there doesn't seem to be a clear correlation between a state's CO2 emissions and their political party affiliation. However, we notice that the states with the largest amounts of CO2 emissions are also the largest states in terms of land area. Therefore, we will perform an analysis that looks at the amount of CO2 released per size of the state, by dividing CO2 emissions by the state's size in sq. miles."
   ]
  },
  {
   "cell_type": "markdown",
   "metadata": {},
   "source": [
    "#### Step \\#3: Next, we divide each state's CO2 emissions by the size of each state, to get a better idea of the CO2 emission density (since larger states on average emit more CO2): "
   ]
  },
  {
   "cell_type": "code",
   "execution_count": null,
   "metadata": {},
   "outputs": [],
   "source": [
    "#Import a new dataset with state size in sq. miles: \n",
    "df_state_size = pd.read_csv(\"Datasets/2014_State_Size_Population_Density.csv\")\n",
    "df_state_area = df_state_size.drop([\"Population\", \"Density (people per sq mi)\"], axis = 1)\n",
    "\n",
    "##Remove the rankings column\n",
    "new_land_area = []\n",
    "for x in df_state_area[\"Land Area (sq mi)\"]:\n",
    "    text = x.split()\n",
    "    new_land_area.append(text[0])\n",
    "      \n",
    "df_state_area[\"Land Area (sq mi)\"] = new_land_area\n",
    "df_state_area\n",
    "\n",
    "\n",
    "##Remove territories that aren't in previous dataset, since they aren't states:\n",
    "list_not_states = []\n",
    "for s,a in zip(df_state_area['State'], df_state_area[\"Land Area (sq mi)\"]):\n",
    "    if s not in States:\n",
    "        #print(s)\n",
    "        df_state_area = df_state_area[df_state_area.State != s]\n",
    "\n",
    "#df_state_area\n"
   ]
  },
  {
   "cell_type": "code",
   "execution_count": null,
   "metadata": {},
   "outputs": [],
   "source": [
    "#Divide CO2 emissions by state size: \n",
    "states = df_state_area['State']\n",
    "areas = df_state_area['Land Area (sq mi)']\n",
    "states_area_dict = dict(zip(states, areas))\n",
    "\n",
    "CO2_div_area_states_dict = CO2_states_dict\n",
    "\n",
    "for state in States: \n",
    "    state_area = states_area_dict[state]\n",
    "    state_area = float(state_area.replace(',', ''))\n",
    "    CO2_div_area_states_dict[state] = float(CO2_div_area_states_dict[state]/state_area)\n",
    "    \n",
    "#CO2_div_area_states_dict"
   ]
  },
  {
   "cell_type": "code",
   "execution_count": null,
   "metadata": {},
   "outputs": [],
   "source": [
    "#Sort dictionary by CO2 emissions/state size:\n",
    "sorted_CO2_div_area_states_dict = sorted(CO2_div_area_states_dict.items(), key=operator.itemgetter(1))\n",
    "sorted_CO2_div_area_states_dict\n",
    "\n",
    "#print(sorted_CO2_states_dict)\n",
    "        \n",
    "colors = []\n",
    "sorted_states_by_CO2_div_area = [state[0] for state in sorted_CO2_div_area_states_dict]\n",
    "\n",
    "for state in sorted_states_by_CO2_div_area: \n",
    "    if state_party_dict[state] == 'Republican':\n",
    "        colors.append('red')\n",
    "    else:\n",
    "        colors.append('blue')\n",
    "\n",
    "#print(colors)"
   ]
  },
  {
   "cell_type": "code",
   "execution_count": null,
   "metadata": {},
   "outputs": [],
   "source": [
    "fig_size = plt.rcParams[\"figure.figsize\"]\n",
    "\n",
    "fig_size[0] = 12\n",
    "fig_size[1] = 9\n",
    "plt.rcParams[\"figure.figsize\"] = fig_size\n",
    "\n",
    "States = []\n",
    "CO2 = []\n",
    "\n",
    "for state, co2 in sorted_CO2_div_area_states_dict: \n",
    "    if state != \"District of Columbia\":\n",
    "        States.append(state)\n",
    "        CO2.append(co2)\n",
    "        #CO2.append(math.log(co2*(10**16)))\n",
    "\n",
    "y_pos = np.arange(len(States))\n",
    "\n",
    "plt.barh(y_pos, CO2, align='center', alpha=0.5, color=colors)\n",
    "plt.yticks(y_pos, States)\n",
    "plt.ylabel('CO2 Emissions (million metric tonnes) divided by state area size (sq miles) in 2014')\n",
    "plt.title('U.S. State CO2 Emissions in 2014')\n",
    "\n",
    "blue_patch = mpatches.Patch(color='blue', alpha=0.5, label='Democrat')\n",
    "red_patch = mpatches.Patch(color='red', alpha=0.5, label='Republican')\n",
    "\n",
    "plt.legend(handles=[blue_patch, red_patch])\n",
    "\n",
    "plt.show()"
   ]
  },
  {
   "cell_type": "markdown",
   "metadata": {},
   "source": [
    "#### Discussion: Here, it seems to be the case that Democratic states are actually releasing more CO2 than Republican states. Let's perform a t-test to analyze whether there is a statistical correlation between a state's political party and their CO2 emissions: "
   ]
  },
  {
   "cell_type": "code",
   "execution_count": null,
   "metadata": {},
   "outputs": [],
   "source": [
    "#To quantify correlation, look at mean and histogram of democratic vs. republican states:\n",
    "democrat_states = []\n",
    "democrat_CO2 = []\n",
    "republican_states = []\n",
    "republican_CO2 = []\n",
    "index = 0\n",
    "\n",
    "for state, CO2 in sorted_CO2_div_area_states_dict: \n",
    "    if colors[index] == 'blue':\n",
    "        democrat_states.append(state)\n",
    "        democrat_CO2.append(float(CO2))\n",
    "    else:\n",
    "        republican_states.append(state)\n",
    "        republican_CO2.append(float(CO2))\n",
    "    index = index + 1\n",
    "        \n",
    "democrat_CO2 = np.array(democrat_CO2)\n",
    "republican_CO2 = np.array(republican_CO2)\n",
    "\n",
    "print(\"democrat_CO2 mean:\", democrat_CO2.mean())\n",
    "print(\"republican_CO2 mean:\", republican_CO2.mean())\n",
    "\n",
    "print(\"\\n\")\n",
    "\n",
    "print(\"democrat_CO2 variance:\", democrat_CO2.var())\n",
    "print(\"republican_CO2 variance:\", republican_CO2.var())\n"
   ]
  },
  {
   "cell_type": "code",
   "execution_count": null,
   "metadata": {
    "scrolled": true
   },
   "outputs": [],
   "source": [
    "from scipy import stats\n",
    "#Perform t-test:\n",
    "\n",
    "t, two_p =stats.ttest_ind(democrat_CO2, republican_CO2, equal_var = True)\n",
    "print(\"\\n Statistics: \\n\")\n",
    "print(\"\\t t-statistic: \", t)\n",
    "print(\"\\t two-tailed p-value: \", two_p)\n",
    "\n",
    "print(\"\\n Results: \\n\")\n",
    "if two_p < 0.05: \n",
    "    print(\"\\t We reject the null hypothesis that the distributions are the same. A significant difference between \\n the two populations was found!\")\n",
    "else:\n",
    "    print(\"\\t We do not reject the null hypothesis. The two distributions are the same. No significant difference was found.\")"
   ]
  },
  {
   "cell_type": "markdown",
   "metadata": {},
   "source": [
    "#### Analysis: After doing our t-test, we get a two-tailed p-value of 0.02. Since this is less than the critical value of alpha = 0.05,  we reject the null hypothesis that the two groups' means were the same. This means that Democratic states did signficantly release more carbon dioxide emissions than Republican states in 2014, according to these datasets. \n",
    "\n",
    "#### Now, we wonder: Does a state's political party affiliation has any correlation to the state population's awareness and perception of climate change?\n"
   ]
  },
  {
   "cell_type": "markdown",
   "metadata": {},
   "source": [
    "#### Step \\#4: Load in a dataset of each state's perception of climate change:"
   ]
  },
  {
   "cell_type": "code",
   "execution_count": null,
   "metadata": {},
   "outputs": [],
   "source": [
    "df_YPCCC_2014_State_new = df_YPCCC_2014_State_new[df_YPCCC_2014_State_new.Statename != \"District of Columbia\"]\n",
    "df_YPCCC_2014_State_new"
   ]
  },
  {
   "cell_type": "code",
   "execution_count": null,
   "metadata": {},
   "outputs": [],
   "source": [
    "states = df_YPCCC_2014_State_new[\"Statename\"]\n",
    "\n",
    "happenings = df_YPCCC_2014_State_new[\"happening\"]\n",
    "states_happening_dict = dict(zip(states, happenings))\n",
    "\n",
    "sorted_states_happening_dict = sorted(states_happening_dict.items(), key=operator.itemgetter(1))\n",
    "#print(sorted_states_happening_dict)\n",
    " \n",
    "sorted_states_happening_colors = []\n",
    "\n",
    "for state, happening in sorted_states_happening_dict: \n",
    "    if state_party_dict[state] == 'Republican':\n",
    "        sorted_states_happening_colors.append('red')\n",
    "    else:\n",
    "        sorted_states_happening_colors.append('blue')\n",
    "\n",
    "#print(sorted_states_happening_colors)\n",
    "\n"
   ]
  },
  {
   "cell_type": "code",
   "execution_count": null,
   "metadata": {},
   "outputs": [],
   "source": [
    "\n",
    "fig_size = plt.rcParams[\"figure.figsize\"]\n",
    "\n",
    "fig_size[0] = 12\n",
    "fig_size[1] = 9\n",
    "plt.rcParams[\"figure.figsize\"] = fig_size\n",
    "\n",
    "States = []\n",
    "Happening = []\n",
    "\n",
    "for state, hap in sorted_states_happening_dict: \n",
    "    if state != \"District of Columbia\":\n",
    "        States.append(state)\n",
    "        Happening.append(hap)\n",
    "\n",
    "y_pos = np.arange(len(States))\n",
    "\n",
    "plt.barh(y_pos, Happening, align='center', alpha=0.5, color=sorted_states_happening_colors)\n",
    "plt.yticks(y_pos, States)\n",
    "plt.xlabel('% of State Population that believes Global Warming is happening')\n",
    "plt.ylabel('State')\n",
    "\n",
    "plt.title('Correlation between State Political Party and whether that state believes Global Warming is happening')\n",
    "\n",
    "blue_patch = mpatches.Patch(color='blue', alpha=0.5, label='Democrat')\n",
    "red_patch = mpatches.Patch(color='red', alpha=0.5, label='Republican')\n",
    "\n",
    "plt.legend(handles=[blue_patch, red_patch])\n",
    "\n",
    "plt.show()"
   ]
  },
  {
   "cell_type": "markdown",
   "metadata": {},
   "source": [
    "#### Discussion: Here, it seems to be the case that Democratic states are more aware that global warming is happening, compared to Republican states. Again, let's perform a t-test to analyze whether there is a statistical correlation between a state's political party and their CO2 emissions: "
   ]
  },
  {
   "cell_type": "code",
   "execution_count": null,
   "metadata": {},
   "outputs": [],
   "source": [
    "#To quantify correlation, look at mean and histogram of democratic vs. republican states:\n",
    "democrat_states = []\n",
    "democrat_happening = []\n",
    "republican_states = []\n",
    "republican_happening = []\n",
    "index = 0\n",
    "\n",
    "for state, hap in sorted_states_happening_dict: \n",
    "    if sorted_states_happening_colors[index] == 'blue':\n",
    "        democrat_states.append(state)\n",
    "        democrat_happening.append(float(hap))\n",
    "    else:\n",
    "        republican_states.append(state)\n",
    "        republican_happening.append(float(hap))\n",
    "    index = index + 1\n",
    "        \n",
    "democrat_happening = np.array(democrat_happening)\n",
    "republican_happening = np.array(republican_happening)\n",
    "\n",
    "print(\"democrat_happening mean:\", democrat_happening.mean())\n",
    "print(\"republican_happening mean:\", republican_happening.mean())\n",
    "\n",
    "print(\"\\n\")\n",
    "\n",
    "print(\"democrat_happening variance:\", democrat_happening.var())\n",
    "print(\"republican_happening variance:\", republican_happening.var())\n"
   ]
  },
  {
   "cell_type": "code",
   "execution_count": null,
   "metadata": {},
   "outputs": [],
   "source": [
    "#Perform t-test:\n",
    "\n",
    "t, two_p =stats.ttest_ind(democrat_happening, republican_happening, equal_var = False)\n",
    "print(\"\\n Statistics: \\n\")\n",
    "print(\"\\t t-statistic: \", t)\n",
    "print(\"\\t two-tailed p-value: \", two_p)\n",
    "\n",
    "print(\"\\n Results: \\n\")\n",
    "if two_p < 0.05: \n",
    "    print(\"\\t We reject the null hypothesis that the distributions are the same. A significant difference between \\n the two populations was found!\")\n",
    "else:\n",
    "    print(\"\\t We do not reject the null hypothesis. The two distributions are the same. No significant difference was found.\")"
   ]
  },
  {
   "cell_type": "markdown",
   "metadata": {},
   "source": [
    "#### Analysis: Here, we again reject the null hypothesis that the two distributions are the same, which means that there was a statistical correlation between political affiliation and whether or not a population believed global warming was happening in 2014, based on these datasets. From this result, we can say that overall, democratic states are more likely  than populations in republican states to believe that global warming is happening. \n"
   ]
  },
  {
   "cell_type": "markdown",
   "metadata": {},
   "source": [
    "### Conclusion of Analysess: \n",
    "\n",
    "#### While Democratic states appear to emit more CO2 than Republican states in 2014, they also appear to be more aware that climate change is happening, which seems contradictory. This causes us to believe that there may be compounding variables that we have not considered in our analysis. What could explain why states who are more aware that global warming is happening still release more carbon dioxide? For future work, we may want to look at a state's GDP as a potential compounding factor. "
   ]
  },
  {
   "cell_type": "markdown",
   "metadata": {},
   "source": [
    "# Ethics & Privacy"
   ]
  },
  {
   "cell_type": "markdown",
   "metadata": {},
   "source": [
    "Common ethical considerations in research include concerns of privacy, consent and\n",
    "beneficence. Privacy and authorship are ensured in our study as all of the datasets we have\n",
    "decided to use are publicly available and have been anonymized. These data are mainly about\n",
    "national carbon emissions and anonymous individual opinions on climate change, which are then\n",
    "grouped based on their geographic location. The final aima of this research is to promote an\n",
    "awareness of climate change, which we believe would be advantageous to anyone who could\n",
    "potentially be affected by this research."
   ]
  },
  {
   "cell_type": "markdown",
   "metadata": {},
   "source": [
    "One ethical concern we do have is that in being American and doing this study at a\n",
    "university in the United States, we inherently bring a western perspective of climate change to the\n",
    "analysis of other countries. We will need to be mindful of any inherent bias we have with this\n",
    "perspective, and actively work to mitigate it by understanding that there are geographic and\n",
    "cultural differences which shape an individual’s perception, awareness of, and response to climate\n",
    "change. We may be able to avoid this bias by doing qualitative research of climate change\n",
    "perceptions in various non-Western countries."
   ]
  },
  {
   "cell_type": "markdown",
   "metadata": {},
   "source": [
    "# Conclusion & Discussion"
   ]
  },
  {
   "cell_type": "markdown",
   "metadata": {},
   "source": [
    "*Fill in your discussion information here*"
   ]
  }
 ],
 "metadata": {
  "kernelspec": {
   "display_name": "Python 3",
   "language": "python",
   "name": "python3"
  },
  "language_info": {
   "codemirror_mode": {
    "name": "ipython",
    "version": 3
   },
   "file_extension": ".py",
   "mimetype": "text/x-python",
   "name": "python",
   "nbconvert_exporter": "python",
   "pygments_lexer": "ipython3",
   "version": "3.6.7"
  }
 },
 "nbformat": 4,
 "nbformat_minor": 2
}
