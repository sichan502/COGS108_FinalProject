{
 "cells": [
  {
   "cell_type": "markdown",
   "metadata": {},
   "source": [
    "# Seeking for the relationship between 7 awareness variables and GDP per capita in each the states in the US"
   ]
  },
  {
   "cell_type": "markdown",
   "metadata": {},
   "source": [
    "In this file, we use the carbon emission data of the states in 2014 and 2016, and the climate change awareness data from Yale's study for 2014, 2016 and 2018. We will analyze the correlation between carbon emission and multiple awareness to see if there is a correlation between awareness and carbon dioxide emission in these two years. If there is a correlation, we will create a model to predict the carbon dioxide emission in 2018, using the awareness data; if not, we will not do the prediction."
   ]
  },
  {
   "cell_type": "markdown",
   "metadata": {},
   "source": [
    "## Import the possible useful python packages"
   ]
  },
  {
   "cell_type": "code",
   "execution_count": null,
   "metadata": {},
   "outputs": [],
   "source": [
    "import pandas as pd\n",
    "import matplotlib.pyplot as plt; plt.rcdefaults()\n",
    "import numpy as np\n",
    "import matplotlib.pyplot as plt\n",
    "\n",
    "import patsy\n",
    "import statsmodels.api as sm\n",
    "import scipy.stats as stats\n",
    "from scipy.stats import ttest_ind, chisquare, normaltest"
   ]
  },
  {
   "cell_type": "markdown",
   "metadata": {},
   "source": [
    "## Read in data about population sentiment per state in 2014"
   ]
  },
  {
   "cell_type": "code",
   "execution_count": null,
   "metadata": {},
   "outputs": [],
   "source": [
    "df_YPCCC_2014_State = pd.read_csv(\"Datasets/YPCCC_2014_State.csv\")\n",
    "df_YPCCC_2014_State"
   ]
  },
  {
   "cell_type": "markdown",
   "metadata": {},
   "source": [
    "### Specify which columns we would like to keep in the dataframe for our analysis:"
   ]
  },
  {
   "cell_type": "code",
   "execution_count": null,
   "metadata": {},
   "outputs": [],
   "source": [
    "list(df_YPCCC_2014_State.columns)"
   ]
  },
  {
   "cell_type": "code",
   "execution_count": null,
   "metadata": {},
   "outputs": [],
   "source": [
    "columns_keep = ['Statename', 'TotalPop', 'happening', 'human', 'worried', 'personal', 'CO2limits', \n",
    "                'regulate', 'fundrenewables']\n",
    "df_YPCCC_2014_State_new = df_YPCCC_2014_State[columns_keep]\n",
    "df_YPCCC_2014_State_new"
   ]
  },
  {
   "cell_type": "markdown",
   "metadata": {},
   "source": [
    "## Read in data about population sentiment per state in 2016"
   ]
  },
  {
   "cell_type": "code",
   "execution_count": null,
   "metadata": {},
   "outputs": [],
   "source": [
    "df_YCOM_2016 = pd.read_csv(\"Datasets/YCOM_2016.csv\")\n",
    "df_YCOM_2016"
   ]
  },
  {
   "cell_type": "markdown",
   "metadata": {},
   "source": [
    "### Specify which columns in 2016 data we would like to keep in the dataframe for our analysis:"
   ]
  },
  {
   "cell_type": "code",
   "execution_count": null,
   "metadata": {},
   "outputs": [],
   "source": [
    "list(df_YCOM_2016.columns)"
   ]
  },
  {
   "cell_type": "code",
   "execution_count": null,
   "metadata": {},
   "outputs": [],
   "source": [
    "columns_2016_keep = ['GeoName', 'happening', 'human', 'worried', 'personal', 'CO2limits', \n",
    "                     'regulate', 'fundrenewables']\n",
    "df_YCOM_2016_new = df_YCOM_2016[columns_2016_keep]\n",
    "df_YCOM_2016_state = df_YCOM_2016_new.loc[0:51]\n",
    "df_YCOM_2016_state = df_YCOM_2016_state.drop(index = 0)\n",
    "df_YCOM_2016_state.dropna()\n",
    "df_YCOM_2016_state\n"
   ]
  },
  {
   "cell_type": "markdown",
   "metadata": {},
   "source": [
    "## Read in data about population sentiment per state in 2018"
   ]
  },
  {
   "cell_type": "code",
   "execution_count": null,
   "metadata": {},
   "outputs": [],
   "source": [
    "df_YCOM_2018 = pd.read_csv(\"Datasets/YCOM_2018.csv\", encoding='ISO-8859-1')\n",
    "df_YCOM_2018"
   ]
  },
  {
   "cell_type": "markdown",
   "metadata": {},
   "source": [
    "### Specify which columns in 2018 data we would like to keep in the dataframe for our analysis:"
   ]
  },
  {
   "cell_type": "code",
   "execution_count": null,
   "metadata": {},
   "outputs": [],
   "source": [
    "list(df_YCOM_2018.columns)"
   ]
  },
  {
   "cell_type": "code",
   "execution_count": null,
   "metadata": {},
   "outputs": [],
   "source": [
    "columns_2018_keep = ['GeoName', 'happening', 'human', 'worried', 'personal', 'CO2limits', 'regulate', \n",
    "                     'fundrenewables']\n",
    "df_YCOM_2018_new = df_YCOM_2018[columns_2018_keep]\n",
    "df_YCOM_2018_state = df_YCOM_2018.loc[0:51]\n",
    "df_YCOM_2018_state = df_YCOM_2018_state.drop(index = 0)\n",
    "df_YCOM_2018_state"
   ]
  },
  {
   "cell_type": "markdown",
   "metadata": {},
   "source": [
    "## Read in data about carbon dioxide emissions released per state: "
   ]
  },
  {
   "cell_type": "code",
   "execution_count": null,
   "metadata": {},
   "outputs": [],
   "source": [
    "df_CO2_state = pd.read_excel(\"Datasets/Carbon_dioxide_emission_by_state.xlsx\", header = 4)\n",
    "df_CO2_state"
   ]
  },
  {
   "cell_type": "markdown",
   "metadata": {},
   "source": [
    "### Drop the null values in CO2 states data"
   ]
  },
  {
   "cell_type": "code",
   "execution_count": null,
   "metadata": {},
   "outputs": [],
   "source": [
    "df_CO2_state_dropped = df_CO2_state.dropna()\n",
    "df_CO2_state_dropped"
   ]
  },
  {
   "cell_type": "markdown",
   "metadata": {},
   "source": [
    "### Specify columns 2012, 2014, 2016 in CO2 data we would like to keep"
   ]
  },
  {
   "cell_type": "code",
   "execution_count": null,
   "metadata": {},
   "outputs": [],
   "source": [
    "## list all the columns\n",
    "list(df_CO2_state.columns)"
   ]
  },
  {
   "cell_type": "code",
   "execution_count": null,
   "metadata": {},
   "outputs": [],
   "source": [
    "## only keep the data from 2012, 2014, 2016\n",
    "columns_CO2 = ['State',2012, 2014, 2016]\n",
    "df_CO2_state_keep = df_CO2_state_dropped[columns_CO2]\n",
    "df_CO2_state_keep = df_CO2_state_keep.drop(51, axis = 0)\n",
    "df_CO2_state_keep"
   ]
  },
  {
   "cell_type": "markdown",
   "metadata": {},
   "source": [
    "## Rank each variable data of awareness and CO2 emission in 2014 and 2016, respectively"
   ]
  },
  {
   "cell_type": "markdown",
   "metadata": {},
   "source": [
    "### The descending CO2 emission quantity of year 2012"
   ]
  },
  {
   "cell_type": "code",
   "execution_count": null,
   "metadata": {},
   "outputs": [],
   "source": [
    "df_CO2_state_12sorted = df_CO2_state_keep.sort_values(2012)\n",
    "df_CO2_state_12sorted[['State', 2012]].head(10)"
   ]
  },
  {
   "cell_type": "code",
   "execution_count": null,
   "metadata": {},
   "outputs": [],
   "source": [
    "df_CO2_state_12sorted[['State', 2012]].tail(10)"
   ]
  },
  {
   "cell_type": "code",
   "execution_count": null,
   "metadata": {},
   "outputs": [],
   "source": [
    "fig_size = plt.rcParams[\"figure.figsize\"]\n",
    "\n",
    "fig_size[0] = 12\n",
    "fig_size[1] = 10\n",
    "plt.rcParams[\"figure.figsize\"] = fig_size\n",
    "y_pos = np.arange(len(df_CO2_state_12sorted['State']))\n",
    "\n",
    "plt.barh(y_pos, df_CO2_state_12sorted[2012], align='center', alpha=0.5)\n",
    "plt.yticks(y_pos, df_CO2_state_12sorted['State'])\n",
    "plt.ylabel(2012)\n",
    "plt.title('CO2 Rank 2012')\n",
    "fig = plt.gcf()\n",
    "fig.set_size_inches(18.5, 32)\n",
    "plt.show()"
   ]
  },
  {
   "cell_type": "markdown",
   "metadata": {},
   "source": [
    "### The descending CO2 emission quantity of year 2014"
   ]
  },
  {
   "cell_type": "code",
   "execution_count": null,
   "metadata": {},
   "outputs": [],
   "source": [
    "df_CO2_state_14sorted = df_CO2_state_keep.sort_values(2014)\n",
    "df_CO2_state_14sorted[['State', 2014]].head(10)"
   ]
  },
  {
   "cell_type": "code",
   "execution_count": null,
   "metadata": {},
   "outputs": [],
   "source": [
    "df_CO2_state_14sorted[['State', 2014]].tail(10)"
   ]
  },
  {
   "cell_type": "code",
   "execution_count": null,
   "metadata": {},
   "outputs": [],
   "source": [
    "fig_size = plt.rcParams[\"figure.figsize\"]\n",
    "\n",
    "fig_size[0] = 12\n",
    "fig_size[1] = 10\n",
    "plt.rcParams[\"figure.figsize\"] = fig_size\n",
    "y_pos = np.arange(len(df_CO2_state_12sorted['State']))\n",
    "\n",
    "plt.barh(y_pos, df_CO2_state_12sorted[2012], align='center', alpha=0.5)\n",
    "plt.yticks(y_pos, df_CO2_state_12sorted['State'])\n",
    "plt.ylabel(2012)\n",
    "plt.title('CO2 Rank 2012')\n",
    "fig = plt.gcf()\n",
    "fig.set_size_inches(18.5, 32)\n",
    "plt.show()"
   ]
  },
  {
   "cell_type": "markdown",
   "metadata": {},
   "source": [
    "### The descending CO2 emission quantity of year 2016"
   ]
  },
  {
   "cell_type": "code",
   "execution_count": null,
   "metadata": {},
   "outputs": [],
   "source": [
    "df_CO2_state_16sorted = df_CO2_state_keep.sort_values(2016)\n",
    "df_CO2_state_16sorted[['State', 2016]].head(10)"
   ]
  },
  {
   "cell_type": "code",
   "execution_count": null,
   "metadata": {},
   "outputs": [],
   "source": [
    "df_CO2_state_16sorted[['State', 2016]].tail(10)"
   ]
  },
  {
   "cell_type": "code",
   "execution_count": null,
   "metadata": {},
   "outputs": [],
   "source": [
    "fig_size = plt.rcParams[\"figure.figsize\"]\n",
    "\n",
    "fig_size[0] = 12\n",
    "fig_size[1] = 10\n",
    "plt.rcParams[\"figure.figsize\"] = fig_size\n",
    "y_pos = np.arange(len(df_CO2_state_12sorted['State']))\n",
    "\n",
    "plt.barh(y_pos, df_CO2_state_12sorted[2016], align='center', alpha=0.5)\n",
    "plt.yticks(y_pos, df_CO2_state_12sorted['State'])\n",
    "plt.ylabel(2016)\n",
    "plt.title('CO2 Rank 2014')\n",
    "fig = plt.gcf()\n",
    "fig.set_size_inches(18.5, 32)\n",
    "plt.show()"
   ]
  },
  {
   "cell_type": "markdown",
   "metadata": {},
   "source": [
    "### The descending rank of awareness data in 2014"
   ]
  },
  {
   "cell_type": "markdown",
   "metadata": {},
   "source": [
    "#### The descending rank of \"happening\" in 2014"
   ]
  },
  {
   "cell_type": "code",
   "execution_count": null,
   "metadata": {},
   "outputs": [],
   "source": [
    "df_a14sort_happening = df_YPCCC_2014_State_new.sort_values('happening')\n",
    "df_a14sort_happening[['Statename', 'happening']].head(10)"
   ]
  },
  {
   "cell_type": "code",
   "execution_count": null,
   "metadata": {},
   "outputs": [],
   "source": [
    "df_a14sort_happening[['Statename', 'happening']].tail(10)"
   ]
  },
  {
   "cell_type": "code",
   "execution_count": null,
   "metadata": {},
   "outputs": [],
   "source": [
    "fig_size = plt.rcParams[\"figure.figsize\"]\n",
    "\n",
    "fig_size[0] = 12\n",
    "fig_size[1] = 10\n",
    "plt.rcParams[\"figure.figsize\"] = fig_size\n",
    "y_pos = np.arange(len(df_a14sort_happening['Statename']))\n",
    "\n",
    "plt.barh(y_pos, df_a14sort_happening['happening'], align='center', alpha=0.5)\n",
    "plt.yticks(y_pos, df_a14sort_happening['Statename'])\n",
    "plt.ylabel('states')\n",
    "plt.title('happening rank 2014')\n",
    "fig = plt.gcf()\n",
    "fig.set_size_inches(18.5, 32)\n",
    "plt.show()"
   ]
  },
  {
   "cell_type": "markdown",
   "metadata": {},
   "source": [
    "#### The descending rank of \"human\" 2014"
   ]
  },
  {
   "cell_type": "code",
   "execution_count": null,
   "metadata": {},
   "outputs": [],
   "source": [
    "df_a14sort_human = df_YPCCC_2014_State_new.sort_values('human')\n",
    "df_a14sort_human[['Statename', 'human']].head(10)"
   ]
  },
  {
   "cell_type": "code",
   "execution_count": null,
   "metadata": {},
   "outputs": [],
   "source": [
    "df_a14sort_human[['Statename', 'human']].tail(10)"
   ]
  },
  {
   "cell_type": "code",
   "execution_count": null,
   "metadata": {},
   "outputs": [],
   "source": [
    "fig_size = plt.rcParams[\"figure.figsize\"]\n",
    "\n",
    "fig_size[0] = 12\n",
    "fig_size[1] = 10\n",
    "plt.rcParams[\"figure.figsize\"] = fig_size\n",
    "y_pos = np.arange(len(df_a14sort_human['Statename']))\n",
    "\n",
    "plt.barh(y_pos, df_a14sort_human['human'], align='center', alpha=0.5)\n",
    "plt.yticks(y_pos, df_a14sort_human['Statename'])\n",
    "plt.ylabel('states')\n",
    "plt.title('human rank 2014')\n",
    "fig = plt.gcf()\n",
    "fig.set_size_inches(18.5, 32)\n",
    "plt.show()"
   ]
  },
  {
   "cell_type": "markdown",
   "metadata": {},
   "source": [
    "#### The descending rank of \"worried\" 2014"
   ]
  },
  {
   "cell_type": "code",
   "execution_count": null,
   "metadata": {},
   "outputs": [],
   "source": [
    "df_a14sort_worried = df_YPCCC_2014_State_new.sort_values('worried')\n",
    "df_a14sort_worried[['Statename', 'worried']].head(10)"
   ]
  },
  {
   "cell_type": "code",
   "execution_count": null,
   "metadata": {},
   "outputs": [],
   "source": [
    "df_a14sort_worried[['Statename', 'worried']].tail(10)"
   ]
  },
  {
   "cell_type": "code",
   "execution_count": null,
   "metadata": {},
   "outputs": [],
   "source": [
    "fig_size = plt.rcParams[\"figure.figsize\"]\n",
    "\n",
    "fig_size[0] = 12\n",
    "fig_size[1] = 10\n",
    "plt.rcParams[\"figure.figsize\"] = fig_size\n",
    "y_pos = np.arange(len(df_a14sort_worried['Statename']))\n",
    "\n",
    "plt.barh(y_pos, df_a14sort_worried['worried'], align='center', alpha=0.5)\n",
    "plt.yticks(y_pos, df_a14sort_worried['Statename'])\n",
    "plt.ylabel('states')\n",
    "plt.title('worried rank 2014')\n",
    "fig = plt.gcf()\n",
    "fig.set_size_inches(18.5, 32)\n",
    "plt.show()"
   ]
  },
  {
   "cell_type": "markdown",
   "metadata": {},
   "source": [
    "#### The descending rank of \"personal\" 2014"
   ]
  },
  {
   "cell_type": "code",
   "execution_count": null,
   "metadata": {},
   "outputs": [],
   "source": [
    "df_a14sort_personal = df_YPCCC_2014_State_new.sort_values('personal')\n",
    "df_a14sort_personal[['Statename', 'personal']].head(10)"
   ]
  },
  {
   "cell_type": "code",
   "execution_count": null,
   "metadata": {},
   "outputs": [],
   "source": [
    "df_a14sort_personal[['Statename', 'personal']].tail(10)"
   ]
  },
  {
   "cell_type": "code",
   "execution_count": null,
   "metadata": {},
   "outputs": [],
   "source": [
    "fig_size = plt.rcParams[\"figure.figsize\"]\n",
    "\n",
    "fig_size[0] = 12\n",
    "fig_size[1] = 10\n",
    "plt.rcParams[\"figure.figsize\"] = fig_size\n",
    "y_pos = np.arange(len(df_a14sort_human['Statename']))\n",
    "\n",
    "plt.barh(y_pos, df_a14sort_personal['personal'], align='center', alpha=0.5)\n",
    "plt.yticks(y_pos, df_a14sort_personal['Statename'])\n",
    "plt.ylabel('states')\n",
    "plt.title('personal rank 2014')\n",
    "fig = plt.gcf()\n",
    "fig.set_size_inches(18.5, 32)\n",
    "plt.show()"
   ]
  },
  {
   "cell_type": "markdown",
   "metadata": {},
   "source": [
    "#### The descending rank of \"CO2limits\" 2014"
   ]
  },
  {
   "cell_type": "code",
   "execution_count": null,
   "metadata": {},
   "outputs": [],
   "source": [
    "df_a14sort_CO2limits = df_YPCCC_2014_State_new.sort_values('CO2limits')\n",
    "df_a14sort_CO2limits[['Statename', 'CO2limits']].head(10)"
   ]
  },
  {
   "cell_type": "code",
   "execution_count": null,
   "metadata": {},
   "outputs": [],
   "source": [
    "df_a14sort_CO2limits[['Statename', 'CO2limits']].tail(10)"
   ]
  },
  {
   "cell_type": "code",
   "execution_count": null,
   "metadata": {},
   "outputs": [],
   "source": [
    "fig_size = plt.rcParams[\"figure.figsize\"]\n",
    "\n",
    "fig_size[0] = 12\n",
    "fig_size[1] = 10\n",
    "plt.rcParams[\"figure.figsize\"] = fig_size\n",
    "y_pos = np.arange(len(df_a14sort_CO2limits['Statename']))\n",
    "\n",
    "plt.barh(y_pos, df_a14sort_CO2limits['CO2limits'], align='center', alpha=0.5)\n",
    "plt.yticks(y_pos, df_a14sort_CO2limits['Statename'])\n",
    "plt.ylabel('states')\n",
    "plt.title('CO2limits rank 2014')\n",
    "fig = plt.gcf()\n",
    "fig.set_size_inches(18.5, 32)\n",
    "plt.show()"
   ]
  },
  {
   "cell_type": "markdown",
   "metadata": {},
   "source": [
    "#### The descending rank of \"regulate\" 2014"
   ]
  },
  {
   "cell_type": "code",
   "execution_count": null,
   "metadata": {},
   "outputs": [],
   "source": [
    "df_a14sort_regulate = df_YPCCC_2014_State_new.sort_values('regulate')\n",
    "df_a14sort_regulate[['Statename', 'regulate']].head(10)"
   ]
  },
  {
   "cell_type": "code",
   "execution_count": null,
   "metadata": {},
   "outputs": [],
   "source": [
    "df_a14sort_regulate[['Statename', 'regulate']].tail(10)"
   ]
  },
  {
   "cell_type": "code",
   "execution_count": null,
   "metadata": {},
   "outputs": [],
   "source": [
    "fig_size = plt.rcParams[\"figure.figsize\"]\n",
    "\n",
    "fig_size[0] = 12\n",
    "fig_size[1] = 10\n",
    "plt.rcParams[\"figure.figsize\"] = fig_size\n",
    "y_pos = np.arange(len(df_a14sort_regulate['Statename']))\n",
    "\n",
    "plt.barh(y_pos, df_a14sort_regulate['regulate'], align='center', alpha=0.5)\n",
    "plt.yticks(y_pos, df_a14sort_regulate['Statename'])\n",
    "plt.ylabel('states')\n",
    "plt.title('regulate rank 2014')\n",
    "fig = plt.gcf()\n",
    "fig.set_size_inches(18.5, 32)\n",
    "plt.show()"
   ]
  },
  {
   "cell_type": "markdown",
   "metadata": {},
   "source": [
    "#### The descending rank of \"fundrenewable\" 2014"
   ]
  },
  {
   "cell_type": "code",
   "execution_count": null,
   "metadata": {},
   "outputs": [],
   "source": [
    "df_a14sort_fundrenewables = df_YPCCC_2014_State_new.sort_values('fundrenewables')\n",
    "df_a14sort_fundrenewables[['Statename', 'fundrenewables']].head(10)"
   ]
  },
  {
   "cell_type": "code",
   "execution_count": null,
   "metadata": {},
   "outputs": [],
   "source": [
    "df_a14sort_fundrenewables[['Statename', 'fundrenewables']].tail(10)"
   ]
  },
  {
   "cell_type": "code",
   "execution_count": null,
   "metadata": {},
   "outputs": [],
   "source": [
    "fig_size = plt.rcParams[\"figure.figsize\"]\n",
    "\n",
    "fig_size[0] = 12\n",
    "fig_size[1] = 10\n",
    "plt.rcParams[\"figure.figsize\"] = fig_size\n",
    "y_pos = np.arange(len(df_a14sort_fundrenewables['Statename']))\n",
    "\n",
    "plt.barh(y_pos, df_a14sort_fundrenewables['fundrenewables'], align='center', alpha=0.5)\n",
    "plt.yticks(y_pos, df_a14sort_fundrenewables['Statename'])\n",
    "plt.ylabel('states')\n",
    "plt.title('fundrenewables rank 2014')\n",
    "fig = plt.gcf()\n",
    "fig.set_size_inches(18.5, 32)\n",
    "plt.show()"
   ]
  },
  {
   "cell_type": "markdown",
   "metadata": {},
   "source": [
    "### The descending rank of awareness data in 2016"
   ]
  },
  {
   "cell_type": "markdown",
   "metadata": {},
   "source": [
    "#### The descending rank of \"happening\" in 2016"
   ]
  },
  {
   "cell_type": "code",
   "execution_count": null,
   "metadata": {},
   "outputs": [],
   "source": [
    "df_a16sort_happening = df_YCOM_2016_state.sort_values('happening')\n",
    "df_a16sort_happening[['GeoName', 'happening']].head(10)"
   ]
  },
  {
   "cell_type": "code",
   "execution_count": null,
   "metadata": {},
   "outputs": [],
   "source": [
    "df_a16sort_happening[['GeoName', 'happening']].tail(10)"
   ]
  },
  {
   "cell_type": "code",
   "execution_count": null,
   "metadata": {},
   "outputs": [],
   "source": [
    "fig_size = plt.rcParams[\"figure.figsize\"]\n",
    "\n",
    "fig_size[0] = 12\n",
    "fig_size[1] = 10\n",
    "plt.rcParams[\"figure.figsize\"] = fig_size\n",
    "y_pos = np.arange(len(df_a16sort_happening['GeoName']))\n",
    "\n",
    "plt.barh(y_pos, df_a16sort_happening['happening'], align='center', alpha=0.5)\n",
    "plt.yticks(y_pos, df_a16sort_happening['GeoName'])\n",
    "plt.ylabel('states')\n",
    "plt.title('happening rank 2016')\n",
    "fig = plt.gcf()\n",
    "fig.set_size_inches(18.5, 32)\n",
    "plt.show()"
   ]
  },
  {
   "cell_type": "markdown",
   "metadata": {},
   "source": [
    "#### The descending rank of \"human\" 2016"
   ]
  },
  {
   "cell_type": "code",
   "execution_count": null,
   "metadata": {},
   "outputs": [],
   "source": [
    "df_a16sort_human = df_YCOM_2016_state.sort_values('human')\n",
    "df_a16sort_human[['GeoName', 'human']].head(10)"
   ]
  },
  {
   "cell_type": "code",
   "execution_count": null,
   "metadata": {},
   "outputs": [],
   "source": [
    "df_a16sort_human[['GeoName', 'human']].tail(10)"
   ]
  },
  {
   "cell_type": "code",
   "execution_count": null,
   "metadata": {},
   "outputs": [],
   "source": [
    "fig_size = plt.rcParams[\"figure.figsize\"]\n",
    "\n",
    "fig_size[0] = 12\n",
    "fig_size[1] = 10\n",
    "plt.rcParams[\"figure.figsize\"] = fig_size\n",
    "y_pos = np.arange(len(df_a16sort_human['GeoName']))\n",
    "\n",
    "plt.barh(y_pos, df_a16sort_human['human'], align='center', alpha=0.5)\n",
    "plt.yticks(y_pos, df_a16sort_human['GeoName'])\n",
    "plt.ylabel('states')\n",
    "plt.title('human rank 2016')\n",
    "fig = plt.gcf()\n",
    "fig.set_size_inches(18.5, 32)\n",
    "plt.show()"
   ]
  },
  {
   "cell_type": "markdown",
   "metadata": {},
   "source": [
    "#### The descending rank of \"worried\" 2016"
   ]
  },
  {
   "cell_type": "code",
   "execution_count": null,
   "metadata": {},
   "outputs": [],
   "source": [
    "df_a16sort_worried = df_YCOM_2016_state.sort_values('worried')\n",
    "df_a16sort_worried[['GeoName', 'worried']].head(10)"
   ]
  },
  {
   "cell_type": "code",
   "execution_count": null,
   "metadata": {},
   "outputs": [],
   "source": [
    "df_a16sort_worried[['GeoName', 'worried']].tail(10)"
   ]
  },
  {
   "cell_type": "code",
   "execution_count": null,
   "metadata": {},
   "outputs": [],
   "source": [
    "fig_size = plt.rcParams[\"figure.figsize\"]\n",
    "\n",
    "fig_size[0] = 12\n",
    "fig_size[1] = 10\n",
    "plt.rcParams[\"figure.figsize\"] = fig_size\n",
    "y_pos = np.arange(len(df_a16sort_worried['GeoName']))\n",
    "\n",
    "plt.barh(y_pos, df_a16sort_worried['worried'], align='center', alpha=0.5)\n",
    "plt.yticks(y_pos, df_a16sort_worried['GeoName'])\n",
    "plt.ylabel('states')\n",
    "plt.title('worried rank 2016')\n",
    "fig = plt.gcf()\n",
    "fig.set_size_inches(18.5, 32)\n",
    "plt.show()"
   ]
  },
  {
   "cell_type": "markdown",
   "metadata": {},
   "source": [
    "#### The descending rank of \"personal\" 2016"
   ]
  },
  {
   "cell_type": "code",
   "execution_count": null,
   "metadata": {},
   "outputs": [],
   "source": [
    "df_a16sort_personal = df_YCOM_2016_state.sort_values('personal')\n",
    "df_a16sort_personal[['GeoName', 'personal']].head(10)"
   ]
  },
  {
   "cell_type": "code",
   "execution_count": null,
   "metadata": {},
   "outputs": [],
   "source": [
    "df_a16sort_personal[['GeoName', 'personal']].tail(10)"
   ]
  },
  {
   "cell_type": "code",
   "execution_count": null,
   "metadata": {},
   "outputs": [],
   "source": [
    "fig_size = plt.rcParams[\"figure.figsize\"]\n",
    "\n",
    "fig_size[0] = 12\n",
    "fig_size[1] = 10\n",
    "plt.rcParams[\"figure.figsize\"] = fig_size\n",
    "y_pos = np.arange(len(df_a16sort_personal['GeoName']))\n",
    "\n",
    "plt.barh(y_pos, df_a16sort_personal['personal'], align='center', alpha=0.5)\n",
    "plt.yticks(y_pos, df_a16sort_personal['GeoName'])\n",
    "plt.ylabel('states')\n",
    "plt.title('human rank 2016')\n",
    "fig = plt.gcf()\n",
    "fig.set_size_inches(18.5, 32)\n",
    "plt.show()"
   ]
  },
  {
   "cell_type": "markdown",
   "metadata": {},
   "source": [
    "#### The descending rank of \"CO2limits\" 2016"
   ]
  },
  {
   "cell_type": "code",
   "execution_count": null,
   "metadata": {},
   "outputs": [],
   "source": [
    "df_a16sort_CO2limits = df_YCOM_2016_state.sort_values('CO2limits')\n",
    "df_a16sort_CO2limits[['GeoName', 'CO2limits']].head(10)"
   ]
  },
  {
   "cell_type": "code",
   "execution_count": null,
   "metadata": {},
   "outputs": [],
   "source": [
    "df_a16sort_CO2limits[['GeoName', 'CO2limits']].tail(10)"
   ]
  },
  {
   "cell_type": "code",
   "execution_count": null,
   "metadata": {},
   "outputs": [],
   "source": [
    "fig_size = plt.rcParams[\"figure.figsize\"]\n",
    "\n",
    "fig_size[0] = 12\n",
    "fig_size[1] = 10\n",
    "plt.rcParams[\"figure.figsize\"] = fig_size\n",
    "y_pos = np.arange(len(df_a16sort_CO2limits['GeoName']))\n",
    "\n",
    "plt.barh(y_pos, df_a16sort_CO2limits['CO2limits'], align='center', alpha=0.5)\n",
    "plt.yticks(y_pos, df_a16sort_CO2limits['GeoName'])\n",
    "plt.ylabel('states')\n",
    "plt.title('human rank 2016')\n",
    "fig = plt.gcf()\n",
    "fig.set_size_inches(18.5, 32)\n",
    "plt.show()"
   ]
  },
  {
   "cell_type": "markdown",
   "metadata": {},
   "source": [
    "#### The descending rank of \"regulate\" 2016"
   ]
  },
  {
   "cell_type": "code",
   "execution_count": null,
   "metadata": {},
   "outputs": [],
   "source": [
    "df_a16sort_regulate = df_YCOM_2016_state.sort_values('regulate')\n",
    "df_a16sort_regulate[['GeoName', 'regulate']].head(10)"
   ]
  },
  {
   "cell_type": "code",
   "execution_count": null,
   "metadata": {},
   "outputs": [],
   "source": [
    "df_a16sort_regulate[['GeoName', 'regulate']].tail(10)"
   ]
  },
  {
   "cell_type": "code",
   "execution_count": null,
   "metadata": {},
   "outputs": [],
   "source": [
    "fig_size = plt.rcParams[\"figure.figsize\"]\n",
    "\n",
    "fig_size[0] = 12\n",
    "fig_size[1] = 10\n",
    "plt.rcParams[\"figure.figsize\"] = fig_size\n",
    "y_pos = np.arange(len(df_a16sort_regulate['GeoName']))\n",
    "\n",
    "plt.barh(y_pos, df_a16sort_regulate['regulate'], align='center', alpha=0.5)\n",
    "plt.yticks(y_pos, df_a16sort_regulate['GeoName'])\n",
    "plt.ylabel('states')\n",
    "plt.title('regulate rank 2016')\n",
    "fig = plt.gcf()\n",
    "fig.set_size_inches(18.5, 32)\n",
    "plt.show()"
   ]
  },
  {
   "cell_type": "markdown",
   "metadata": {},
   "source": [
    "#### The descending rank of \"fundrenewable\" 2016"
   ]
  },
  {
   "cell_type": "code",
   "execution_count": null,
   "metadata": {},
   "outputs": [],
   "source": [
    "df_a16sort_fundrenewables = df_YCOM_2016_state.sort_values('fundrenewables')\n",
    "df_a16sort_fundrenewables[['GeoName', 'fundrenewables']].head(10)"
   ]
  },
  {
   "cell_type": "code",
   "execution_count": null,
   "metadata": {},
   "outputs": [],
   "source": [
    "df_a16sort_fundrenewables[['GeoName', 'fundrenewables']].tail(10)"
   ]
  },
  {
   "cell_type": "code",
   "execution_count": null,
   "metadata": {},
   "outputs": [],
   "source": [
    "fig_size = plt.rcParams[\"figure.figsize\"]\n",
    "\n",
    "fig_size[0] = 12\n",
    "fig_size[1] = 10\n",
    "plt.rcParams[\"figure.figsize\"] = fig_size\n",
    "y_pos = np.arange(len(df_a16sort_fundrenewables['GeoName']))\n",
    "\n",
    "plt.barh(y_pos, df_a16sort_fundrenewables['fundrenewables'], align='center', alpha=0.5)\n",
    "plt.yticks(y_pos, df_a16sort_fundrenewables['GeoName'])\n",
    "plt.ylabel('states')\n",
    "plt.title('fundrenewables rank 2016')\n",
    "fig = plt.gcf()\n",
    "fig.set_size_inches(18.5, 32)\n",
    "plt.show()"
   ]
  },
  {
   "cell_type": "markdown",
   "metadata": {},
   "source": [
    "## Find the correlation between each awareness variable and carbon dioxide emission quantity in each state"
   ]
  },
  {
   "cell_type": "markdown",
   "metadata": {},
   "source": [
    "### Merge the carbon dioxide emission data and awareness vaiebles data by state in 2014"
   ]
  },
  {
   "cell_type": "code",
   "execution_count": null,
   "metadata": {},
   "outputs": [],
   "source": [
    "df_YPCCC_2014_State_renamed = df_YPCCC_2014_State_new.rename(columns = {'Statename': 'State'})\n",
    "State_Awareness_CO2 = pd.merge(df_YPCCC_2014_State_renamed, df_CO2_state_keep, on='State')\n",
    "State_Awareness_CO2"
   ]
  },
  {
   "cell_type": "code",
   "execution_count": null,
   "metadata": {},
   "outputs": [],
   "source": [
    "list(State_Awareness_CO2.columns)"
   ]
  },
  {
   "cell_type": "code",
   "execution_count": null,
   "metadata": {},
   "outputs": [],
   "source": [
    "columns2014 = ['State','TotalPop','happening','human','worried','personal','CO2limits','regulate',\n",
    "               'fundrenewables', 2014]\n",
    "State_Awareness_CO2_2014 = State_Awareness_CO2[columns2014]\n",
    "State_Awareness_CO2_2014"
   ]
  },
  {
   "cell_type": "markdown",
   "metadata": {},
   "source": [
    "### Merge the carbon dioxide emission data and awareness vaiebles data by state in 2016"
   ]
  },
  {
   "cell_type": "code",
   "execution_count": null,
   "metadata": {},
   "outputs": [],
   "source": [
    "df_YCOM_2016_State_renamed = df_YCOM_2016_state.rename(columns = {'GeoName': 'State'})\n",
    "State_Awareness_CO2_2016 = pd.merge(df_YCOM_2016_State_renamed, df_CO2_state_keep, on='State')\n",
    "State_Awareness_CO2_2016"
   ]
  },
  {
   "cell_type": "code",
   "execution_count": null,
   "metadata": {},
   "outputs": [],
   "source": [
    "list(State_Awareness_CO2_2016.columns)"
   ]
  },
  {
   "cell_type": "code",
   "execution_count": null,
   "metadata": {},
   "outputs": [],
   "source": [
    "State_Awareness_CO2_2016col = ['State','happening','human','worried','personal','CO2limits','regulate',\n",
    "                               'fundrenewables',2016]\n",
    "State_Awareness_CO2_2016 = State_Awareness_CO2_2016[State_Awareness_CO2_2016col]\n",
    "State_Awareness_CO2_2016"
   ]
  },
  {
   "cell_type": "markdown",
   "metadata": {},
   "source": [
    "## Correlations"
   ]
  },
  {
   "cell_type": "markdown",
   "metadata": {},
   "source": [
    "## Correlation of awareness variables and  carbon dioxide emission in 2014"
   ]
  },
  {
   "cell_type": "markdown",
   "metadata": {},
   "source": [
    "The correlation of each awareness data variable witht the carbon dioxide emission in 2014"
   ]
  },
  {
   "cell_type": "code",
   "execution_count": null,
   "metadata": {},
   "outputs": [],
   "source": [
    "corrs_2014 = State_Awareness_CO2_2014.corr()\n",
    "corrs_2014[[2014]]"
   ]
  },
  {
   "cell_type": "markdown",
   "metadata": {},
   "source": [
    "### Visualizing the correlation in 2014\n",
    "1. A scatter point of the correlation between \"the awareness of whether climate change is happening\" and \"the carbon dioxide emission\" in 2014 "
   ]
  },
  {
   "cell_type": "code",
   "execution_count": null,
   "metadata": {},
   "outputs": [],
   "source": [
    "x = State_Awareness_CO2_2014[2014]\n",
    "y = State_Awareness_CO2_2014['happening']\n",
    "types = State_Awareness_CO2_2014['State']\n",
    "\n",
    "for i,j in enumerate(types):\n",
    "    x_coor = x[i]\n",
    "    y_coor = y[i]\n",
    "    plt.plot(x_coor, y_coor, marker = '.', color = 'red', markersize = 20)\n",
    "    plt.text(x_coor + 0.5, y_coor + 0.5, j, fontsize = 20)\n",
    "    plt.xlabel('2016 year emission in state', fontsize = 30)\n",
    "    plt.ylabel('Awareness: happening', fontsize = 30)\n",
    "\n",
    "## adjust the size of the size\n",
    "plt.gcf().set_size_inches((30, 20))\n",
    "plt.show()"
   ]
  },
  {
   "cell_type": "markdown",
   "metadata": {},
   "source": [
    "2. A scatter point of the correlation between \"the awareness of whether human causeses climate change \" and \"the carbon dioxide emission\" in 2014 "
   ]
  },
  {
   "cell_type": "code",
   "execution_count": null,
   "metadata": {},
   "outputs": [],
   "source": [
    "x = State_Awareness_CO2_2014[2014]\n",
    "y = State_Awareness_CO2_2014['human']\n",
    "types = State_Awareness_CO2_2014['State']\n",
    "\n",
    "for i,j in enumerate(types):\n",
    "    x_coor = x[i]\n",
    "    y_coor = y[i]\n",
    "    plt.plot(x_coor, y_coor, marker = '.', color = 'red', markersize = 20)\n",
    "    plt.text(x_coor + 0.5, y_coor + 0.5, j, fontsize = 20)\n",
    "    plt.xlabel('2016 year emission in state', fontsize = 30)\n",
    "    plt.ylabel('Awareness: human', fontsize = 30)\n",
    "\n",
    "## adjust the size of the size\n",
    "plt.gcf().set_size_inches((30, 20))\n",
    "plt.show()"
   ]
  },
  {
   "cell_type": "markdown",
   "metadata": {},
   "source": [
    "3. A scatter point of the correlation between \"the awareness of whether people worry about climate change\" and \"the carbon dioxide emission\" in 2014 "
   ]
  },
  {
   "cell_type": "code",
   "execution_count": null,
   "metadata": {},
   "outputs": [],
   "source": [
    "3. A scatter point of the correlation between \"the awareness of whether people worry about climate change\" and \"the carbon dioxide emission\" in 2014 x = State_Awareness_CO2_2014[2014]\n",
    "y = State_Awareness_CO2_2014['worried']\n",
    "types = State_Awareness_CO2_2014['State']\n",
    "\n",
    "for i,j in enumerate(types):\n",
    "    x_coor = x[i]\n",
    "    y_coor = y[i]\n",
    "    plt.plot(x_coor, y_coor, marker = '.', color = 'red', markersize = 20)\n",
    "    plt.text(x_coor + 0.5, y_coor + 0.5, j, fontsize = 20)\n",
    "    plt.xlabel('2016 year emission in state', fontsize = 30)\n",
    "    plt.ylabel('Awareness: worried', fontsize = 30)\n",
    "\n",
    "## adjust the size of the size\n",
    "plt.gcf().set_size_inches((30, 20))\n",
    "plt.show()"
   ]
  },
  {
   "cell_type": "markdown",
   "metadata": {},
   "source": [
    "4. A scatter point of the correlation between \"the awareness of whether ???? \" and \"the carbon dioxide emission\" in 2014 \n",
    "(to be finished)"
   ]
  },
  {
   "cell_type": "code",
   "execution_count": null,
   "metadata": {},
   "outputs": [],
   "source": [
    "x = State_Awareness_CO2_2014[2014]\n",
    "y = State_Awareness_CO2_2014['personal']\n",
    "types = State_Awareness_CO2_2014['State']\n",
    "\n",
    "for i,j in enumerate(types):\n",
    "    x_coor = x[i]\n",
    "    y_coor = y[i]\n",
    "    plt.plot(x_coor, y_coor, marker = '.', color = 'red', markersize = 20)\n",
    "    plt.text(x_coor + 0.5, y_coor + 0.5, j, fontsize = 20)\n",
    "    plt.xlabel('2016 year emission in state', fontsize = 30)\n",
    "    plt.ylabel('Awareness: personal', fontsize = 30)\n",
    "\n",
    "## adjust the size of the size\n",
    "plt.gcf().set_size_inches((30, 20))\n",
    "plt.show()"
   ]
  },
  {
   "cell_type": "markdown",
   "metadata": {},
   "source": [
    "5. A scatter point of the correlation between \"the awareness of whether we should limit the carbon dioxide emission \" and \"the carbon dioxide emission\" in 2014 \n",
    "(to be confrim)"
   ]
  },
  {
   "cell_type": "code",
   "execution_count": null,
   "metadata": {},
   "outputs": [],
   "source": [
    "x = State_Awareness_CO2_2014[2014]\n",
    "y = State_Awareness_CO2_2014['CO2limits']\n",
    "types = State_Awareness_CO2_2014['State']\n",
    "\n",
    "for i,j in enumerate(types):\n",
    "    x_coor = x[i]\n",
    "    y_coor = y[i]\n",
    "    plt.plot(x_coor, y_coor, marker = '.', color = 'red', markersize = 20)\n",
    "    plt.text(x_coor + 0.5, y_coor + 0.5, j, fontsize = 20)\n",
    "    plt.xlabel('2016 year emission in state', fontsize = 30)\n",
    "    plt.ylabel('Awareness: CO2limits', fontsize = 30)\n",
    "\n",
    "## adjust the size of the size\n",
    "plt.gcf().set_size_inches((30, 20))\n",
    "plt.show()"
   ]
  },
  {
   "cell_type": "markdown",
   "metadata": {},
   "source": [
    "6. A scatter point of the correlation between \"the awareness of whether we should regulate the carbon emission\" and \"the carbon dioxide emission\" in 2014 "
   ]
  },
  {
   "cell_type": "code",
   "execution_count": null,
   "metadata": {},
   "outputs": [],
   "source": [
    "x = State_Awareness_CO2_2014[2014]\n",
    "y = State_Awareness_CO2_2014['regulate']\n",
    "types = State_Awareness_CO2_2014['State']\n",
    "\n",
    "for i,j in enumerate(types):\n",
    "    x_coor = x[i]\n",
    "    y_coor = y[i]\n",
    "    plt.plot(x_coor, y_coor, marker = '.', color = 'red', markersize = 20)\n",
    "    plt.text(x_coor + 0.5, y_coor + 0.5, j, fontsize = 20)\n",
    "    plt.xlabel('2016 year emission in state', fontsize = 30)\n",
    "    plt.ylabel('Awareness: regulate', fontsize = 30)\n",
    "\n",
    "## adjust the size of the size\n",
    "plt.gcf().set_size_inches((30, 20))\n",
    "plt.show()"
   ]
  },
  {
   "cell_type": "markdown",
   "metadata": {},
   "source": [
    "7. A scatter point of the correlation between \"the awareness of whether we should fund renewable resources\" and \"the carbon dioxide emission\" in 2014 "
   ]
  },
  {
   "cell_type": "code",
   "execution_count": null,
   "metadata": {},
   "outputs": [],
   "source": [
    "x = State_Awareness_CO2_2014[2014]\n",
    "y = State_Awareness_CO2_2014['fundrenewables']\n",
    "types = State_Awareness_CO2_2014['State']\n",
    "\n",
    "for i,j in enumerate(types):\n",
    "    x_coor = x[i]\n",
    "    y_coor = y[i]\n",
    "    plt.plot(x_coor, y_coor, marker = '.', color = 'red', markersize = 20)\n",
    "    plt.text(x_coor + 0.5, y_coor + 0.5, j, fontsize = 20)\n",
    "    plt.xlabel('2016 year emission in state', fontsize = 30)\n",
    "    plt.ylabel('Awareness: fundrenewables', fontsize = 30)\n",
    "\n",
    "## adjust the size of the size\n",
    "plt.gcf().set_size_inches((30, 20))\n",
    "plt.show()"
   ]
  },
  {
   "cell_type": "markdown",
   "metadata": {},
   "source": [
    "## Correlation of awareness variables and  carbon dioxide emission in 2016"
   ]
  },
  {
   "cell_type": "markdown",
   "metadata": {},
   "source": [
    "The correlation of each awareness data variable witht the carbon dioxide emission in 2016"
   ]
  },
  {
   "cell_type": "code",
   "execution_count": null,
   "metadata": {
    "scrolled": true
   },
   "outputs": [],
   "source": [
    "corrs_2016 = State_Awareness_CO2_2016.corr()\n",
    "corrs_2016[[2016]]"
   ]
  },
  {
   "cell_type": "markdown",
   "metadata": {},
   "source": [
    "### Visualizing the correlation in 2016"
   ]
  },
  {
   "cell_type": "markdown",
   "metadata": {},
   "source": [
    "1. A scatter point of the correlation between \"the awareness of whether climate change is happening\" and \"the carbon dioxide emission\" in 2016"
   ]
  },
  {
   "cell_type": "code",
   "execution_count": null,
   "metadata": {},
   "outputs": [],
   "source": [
    "x = State_Awareness_CO2_2016[2016]\n",
    "y = State_Awareness_CO2_2016['happening']\n",
    "types = State_Awareness_CO2_2016['State']\n",
    "\n",
    "for i,j in enumerate(types):\n",
    "    x_coor = x[i]\n",
    "    y_coor = y[i]\n",
    "    plt.plot(x_coor, y_coor, marker = '.', color = 'red', markersize = 20)\n",
    "    plt.text(x_coor + 0.5, y_coor + 0.5, j, fontsize = 20)\n",
    "    plt.xlabel('2016 year emission in state', fontsize = 30)\n",
    "    plt.ylabel('Awareness: happening', fontsize = 30)\n",
    "\n",
    "## adjust the size of the size\n",
    "plt.gcf().set_size_inches((30, 20))\n",
    "plt.show()"
   ]
  },
  {
   "cell_type": "markdown",
   "metadata": {},
   "source": [
    "2. A scatter point of the correlation between \"the awareness of whether human causeses climate change \" and \"the carbon dioxide emission\" in 2016"
   ]
  },
  {
   "cell_type": "code",
   "execution_count": null,
   "metadata": {},
   "outputs": [],
   "source": [
    "x = State_Awareness_CO2_2016[2016]\n",
    "y = State_Awareness_CO2_2016['human']\n",
    "types = State_Awareness_CO2_2016['State']\n",
    "\n",
    "for i,j in enumerate(types):\n",
    "    x_coor = x[i]\n",
    "    y_coor = y[i]\n",
    "    plt.plot(x_coor, y_coor, marker = '.', color = 'red', markersize = 20)\n",
    "    plt.text(x_coor + 0.5, y_coor + 0.5, j, fontsize = 20)\n",
    "    plt.xlabel('2016 year emission in state', fontsize = 30)\n",
    "    plt.ylabel('Awareness: human', fontsize = 30)\n",
    "## adjust the size of the size\n",
    "plt.gcf().set_size_inches((30, 20))\n",
    "plt.show()"
   ]
  },
  {
   "cell_type": "markdown",
   "metadata": {},
   "source": [
    "3. A scatter point of the correlation between \"the awareness of whether people worry about climate change\" and \"the carbon dioxide emission\" in 2016"
   ]
  },
  {
   "cell_type": "code",
   "execution_count": null,
   "metadata": {},
   "outputs": [],
   "source": [
    "x = State_Awareness_CO2_2016[2016]\n",
    "y = State_Awareness_CO2_2016['worried']\n",
    "types = State_Awareness_CO2_2016['State']\n",
    "\n",
    "for i,j in enumerate(types):\n",
    "    x_coor = x[i]\n",
    "    y_coor = y[i]\n",
    "    plt.plot(x_coor, y_coor, marker = '.', color = 'red', markersize = 20)\n",
    "    plt.text(x_coor + 0.5, y_coor + 0.5, j, fontsize = 20)\n",
    "    plt.xlabel('2016 year emission in state', fontsize = 30)\n",
    "    plt.ylabel('Awareness: worried', fontsize = 30)\n",
    "## adjust the size of the size\n",
    "plt.gcf().set_size_inches((30, 20))\n",
    "plt.show()"
   ]
  },
  {
   "cell_type": "markdown",
   "metadata": {},
   "source": [
    "4. A scatter point of the correlation between \"the awareness of whether ???? \" and \"the carbon dioxide emission\" in 2014 \n",
    "(to be finished)"
   ]
  },
  {
   "cell_type": "code",
   "execution_count": null,
   "metadata": {},
   "outputs": [],
   "source": [
    "x = State_Awareness_CO2_2016[2016]\n",
    "y = State_Awareness_CO2_2016['personal']\n",
    "types = State_Awareness_CO2_2016['State']\n",
    "\n",
    "for i,j in enumerate(types):\n",
    "    x_coor = x[i]\n",
    "    y_coor = y[i]\n",
    "    plt.plot(x_coor, y_coor, marker = '.', color = 'red', markersize = 20)\n",
    "    plt.text(x_coor + 0.5, y_coor + 0.5, j, fontsize = 20)\n",
    "    plt.xlabel('2016 year emission in state', fontsize = 30)\n",
    "    plt.ylabel('Awareness: personal', fontsize = 30)\n",
    "    \n",
    "## adjust the size of the size\n",
    "plt.gcf().set_size_inches((30, 20))\n",
    "plt.show()"
   ]
  },
  {
   "cell_type": "markdown",
   "metadata": {},
   "source": [
    "5. A scatter point of the correlation between \"the awareness of whether we should limit the carbon dioxide emission \" and \"the carbon dioxide emission\" in 2014 \n",
    "(to be confrim)"
   ]
  },
  {
   "cell_type": "code",
   "execution_count": null,
   "metadata": {},
   "outputs": [],
   "source": [
    "x = State_Awareness_CO2_2016[2016]\n",
    "y = State_Awareness_CO2_2016['CO2limits']\n",
    "types = State_Awareness_CO2_2016['State']\n",
    "\n",
    "for i,j in enumerate(types):\n",
    "    x_coor = x[i]\n",
    "    y_coor = y[i]\n",
    "    plt.plot(x_coor, y_coor, marker = '.', color = 'red', markersize = 20)\n",
    "    plt.text(x_coor + 0.5, y_coor + 0.5, j, fontsize = 20)\n",
    "    plt.xlabel('2016 year emission in state', fontsize = 30)\n",
    "    plt.ylabel('Awareness: CO2limits', fontsize = 30)\n",
    "## adjust the size of the size\n",
    "plt.gcf().set_size_inches((30, 20))\n",
    "plt.show()"
   ]
  },
  {
   "cell_type": "markdown",
   "metadata": {},
   "source": [
    "6. A scatter point of the correlation between \"the awareness of whether we should regulate the carbon emission\" and \"the carbon dioxide emission\" in 2016"
   ]
  },
  {
   "cell_type": "code",
   "execution_count": null,
   "metadata": {},
   "outputs": [],
   "source": [
    "x = State_Awareness_CO2_2016[2016]\n",
    "y = State_Awareness_CO2_2016['regulate']\n",
    "types = State_Awareness_CO2_2016['State']\n",
    "\n",
    "for i,j in enumerate(types):\n",
    "    x_coor = x[i]\n",
    "    y_coor = y[i]\n",
    "    plt.plot(x_coor, y_coor, marker = '.', color = 'red', markersize = 20)\n",
    "    plt.text(x_coor + 0.5, y_coor + 0.5, j, fontsize = 20)\n",
    "    plt.xlabel('2016 year emission in state', fontsize = 30)\n",
    "    plt.ylabel('Awareness: regulate', fontsize = 30)\n",
    "\n",
    "## adjust the size of the size\n",
    "plt.gcf().set_size_inches((30, 20))\n",
    "plt.show()"
   ]
  },
  {
   "cell_type": "markdown",
   "metadata": {},
   "source": [
    "7. A scatter point of the correlation between \"the awareness of whether we should fund renewable resources\" and \"the carbon dioxide emission\" in 2016"
   ]
  },
  {
   "cell_type": "code",
   "execution_count": null,
   "metadata": {},
   "outputs": [],
   "source": [
    "x = State_Awareness_CO2_2016[2016]\n",
    "y = State_Awareness_CO2_2016['fundrenewables']\n",
    "types = State_Awareness_CO2_2016['State']\n",
    "\n",
    "for i,j in enumerate(types):\n",
    "    x_coor = x[i]\n",
    "    y_coor = y[i]\n",
    "    plt.plot(x_coor, y_coor, marker = '.', color = 'red', markersize = 20)\n",
    "    plt.text(x_coor + 0.5, y_coor + 0.5, j, fontsize = 20)\n",
    "    plt.xlabel('2016 year emission in state', fontsize = 30)\n",
    "    plt.ylabel('Awareness: fundrenewables', fontsize = 30)\n",
    "## adjust the size of the size\n",
    "plt.gcf().set_size_inches((30, 20))\n",
    "plt.show()"
   ]
  },
  {
   "cell_type": "markdown",
   "metadata": {},
   "source": [
    "## Data cleaning for GDP per capita of states in 2014 and 2016"
   ]
  },
  {
   "cell_type": "code",
   "execution_count": null,
   "metadata": {},
   "outputs": [],
   "source": [
    "## todo"
   ]
  },
  {
   "cell_type": "markdown",
   "metadata": {},
   "source": [
    "## Using geographics to visualize the carbon emission and awareness data"
   ]
  },
  {
   "cell_type": "code",
   "execution_count": null,
   "metadata": {},
   "outputs": [],
   "source": [
    "conda install geopandas"
   ]
  },
  {
   "cell_type": "code",
   "execution_count": null,
   "metadata": {},
   "outputs": [],
   "source": [
    "!pip install descartes\n",
    "!pip install PySAL\n",
    "!pip install mapclassify"
   ]
  },
  {
   "cell_type": "code",
   "execution_count": null,
   "metadata": {},
   "outputs": [],
   "source": []
  }
 ],
 "metadata": {
  "kernelspec": {
   "display_name": "Python 3",
   "language": "python",
   "name": "python3"
  },
  "language_info": {
   "codemirror_mode": {
    "name": "ipython",
    "version": 3
   },
   "file_extension": ".py",
   "mimetype": "text/x-python",
   "name": "python",
   "nbconvert_exporter": "python",
   "pygments_lexer": "ipython3",
   "version": "3.6.7"
  }
 },
 "nbformat": 4,
 "nbformat_minor": 2
}
